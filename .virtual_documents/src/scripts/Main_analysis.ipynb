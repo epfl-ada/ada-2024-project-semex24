














import pandas as pd
import numpy as np
import ast
import matplotlib.pyplot as plt
import re
import seaborn as sns
from sklearn.linear_model import LinearRegression
from numpy.polynomial import Polynomial
import statsmodels.formula.api as smf
from scipy.stats import chi2_contingency
from scipy.stats import ttest_ind
import statsmodels.api as sm
from statsmodels.formula.api import ols
import scipy.stats as stats
from scipy.stats import linregress





file_path = "../../data/movies_dataset.tsv"
movies_df = pd.read_csv(file_path, sep='\t')

# dataset2 = 'character.metadata.tsv'
# character_df = pd.read_csv(dataset2, sep='\t')


# Data overview
movies_df.head()





#Columns
print("Number of columns in movie_metadata:", len(movies_df.columns))
# print("Number of columns in character_metadata:", len(character_df.columns))

# movies_df.columns = [
#     'Wikipedia movie ID', 'Freebase movie ID', 'Movie name', 'languages', 'countries', 'budget',
#     'popularity', 'revenue', 'runtime', 'genres', 'release_date']


# # character_df.columns = [
# #     'Wikipedia Movie ID	', 'Freebase Movie ID',' Movie release_date', 'Character Name', 'Actor DOB',
# #     'Actor gender', 'Actor height', 'Actor ethnicity', 'Actor Name',
# #     'Actor age at movie release', 'Freebase character map', 'Freebase character ID',  'Freebase actor ID'
# # ]


print("Movie Metadata Sample:")
movies_df.info()


print("\nSummary Statistics for Numeric Columns:")
movies_df.describe().T


# print("\nCharacter Metadata Sample:")
# character_df.info()





print("\nMissing Values in Each Column:")
print(movies_df.isnull().sum())






plt.figure(figsize=(10, 6))
sns.heatmap(movies_df.isnull(), cbar=False, cmap='viridis', yticklabels=False)
plt.title('Missing value in the dataset')
plt.show()





movies_df['release_date'] = pd.to_datetime(movies_df['release_date'], errors='coerce')


# character_df[' Movie release_date'] = pd.to_datetime(character_df[' Movie release_date'], errors='coerce')
# character_df['Actor DOB'] = pd.to_datetime(character_df['Actor DOB'], errors='coerce')


movies_df['release_year'] = movies_df['release_date'].dt.year
movie_count_by_year = movies_df['release_year'].value_counts().sort_index()


def parse_genres(x):
    if isinstance(x, str):
        try:
            return ast.literal_eval(x)
        except (ValueError, SyntaxError):
            return [genre.strip() for genre in x.split(',')]
    return x

movies_df['genres'] = movies_df['genres'].apply(parse_genres)

all_genres = set()
for genres_list in movies_df['genres']:
    if isinstance(genres_list, list):
        all_genres.update(genres_list)

all_genres_list = sorted(all_genres)

print("Number of genres:", len(all_genres_list))
print(all_genres_list)



# Converting to lists genre column, country and language column
movies_df['countries'] = movies_df['countries'].str.split(', ')
movies_df['languages'] = movies_df['languages'].str.split(', ')











# count different countries
country_counts = movies_df['countries'].explode().value_counts() #since we can have more than 1 country in countries column

top_10_countries = country_counts.head(10)

plt.figure(figsize=(10, 6))
sns.barplot(x=top_10_countries.index, y=top_10_countries.values)
plt.title('Top 10 Countries with the Most Movies')
plt.xlabel('Country')
plt.ylabel('Number of Movies')
plt.xticks(rotation=45)
plt.show()





language_counts = movies_df['languages'].explode().value_counts() # same thing as for countries, there could be more languages
top_10_languages = language_counts.head(10)

plt.figure(figsize=(10, 6))
sns.barplot(x=top_10_languages.index, y=top_10_languages.values)
plt.title('Top 10 Languages with the Most Movies')
plt.xlabel('Language')
plt.ylabel('Number of Movies')
plt.xticks(rotation=45)
plt.show()






movies_df['languages'] = movies_df['languages'].apply(
    lambda x: [
        y if y == 'Silent film' else  # leave 'Silent film' unchanged
        y[:-8] + 'Language' if y.lower().endswith('language') else  # if it ends in 'language' make it 'Language'
        y + ' Language'  # add ' Language' if it doesn't end with 'language'
        for y in x] if isinstance(x, list) else x
)
# Now do the same plot again
language_counts = movies_df['languages'].explode().value_counts()
top_10_languages = language_counts.head(10)

plt.figure(figsize=(10, 6))
sns.barplot(x=top_10_languages.index, y=top_10_languages.values)
plt.title('Top 10 Languages with the Most Movies')
plt.xlabel('Language')
plt.ylabel('Number of Movies')
plt.xticks(rotation=45)
plt.show()





plt.figure(figsize=(10, 6))
sns.histplot(movies_df['budget'], bins=30, kde=True)
plt.title('Distribution of Movie Budgets')
plt.xlabel('budget')
plt.ylabel('Frequency')
plt.show()





plt.figure(figsize=(10, 6))
sns.histplot(np.log1p(movies_df['budget']), bins=30, kde=True)
plt.title('Distribution of Movie Budgets')
plt.xlabel('Log of budget')
plt.ylabel('Frequency')
plt.xticks(ticks=np.log1p([1e4,1e5,1e6, 1e7, 1e8, 1e9]), labels=[f'{int(x)}' for x in [1e4,1e5,1e6, 1e7, 1e8, 1e9]])
plt.show()

# change x axis to show not log values


movies_df['budget'].describe()





percentile_2 = movies_df['budget'].quantile(0.02)
print(percentile_2)
movies_df.loc[movies_df['budget'] < percentile_2, 'budget'] = np.nan





plt.figure(figsize=(10, 6))
sns.histplot(np.log1p(movies_df['budget']), bins=30, kde=True)
plt.title('Distribution of Movie Vudgets')
plt.xlabel('Log of budget')
plt.ylabel('Frequency')
plt.xticks(ticks=np.log1p([1e4,1e5,1e6, 1e7, 1e8, 1e9]), labels=[f'{int(x)}' for x in [1e4,1e5,1e6, 1e7, 1e8, 1e9]])
plt.show()






plt.figure(figsize=(10, 6))
sns.histplot(movies_df['revenue'], bins=30, kde=True)
plt.title('Distribution of Movie Revenues')
plt.xlabel('revenue')
plt.ylabel('Frequency')





zero_revenue_count = (movies_df['revenue'] == 0).sum()
print(f"Number of movies with zero revenue: {zero_revenue_count}")





plt.figure(figsize=(15, 6))
sns.histplot(np.log1p(movies_df['revenue']), bins=30, kde=True)
plt.title('Distribution of Movie Revenues')
plt.xlabel('Log of revenue')
plt.ylabel('Frequency')
plt.xticks(ticks=np.log1p([1e4,1e5,1e6, 1e7, 1e8, 1e9]), labels=[f'{int(x)}' for x in [1e4,1e5,1e6, 1e7, 1e8, 1e9]]);


# 5 percentile
movies_df['revenue'].describe()





percentile_01 = movies_df['revenue'].quantile(0.001)
print(percentile_01)
movies_df[movies_df['revenue'] < percentile_01] = np.nan







plt.figure(figsize=(15, 6))
sns.histplot(np.log1p(movies_df['revenue']), bins=30, kde=True)
plt.title('Distribution of Movie Revenues')
plt.xlabel('Log of revenue')
plt.ylabel('Frequency')
plt.xticks(ticks=np.log1p([1e4,1e5,1e6, 1e7, 1e8, 1e9]), labels=[f'{int(x)}' for x in [1e4,1e5,1e6, 1e7, 1e8, 1e9]]);





plt.figure(figsize=(10, 6))
sns.histplot(movies_df['runtime'], bins=30, kde=True)
plt.title('Distribution of Runtime')
plt.xlabel('Runtime')
plt.ylabel('Frequency')





# Log scale
plt.figure(figsize=(10, 6))
sns.histplot(np.log1p(movies_df['runtime']), bins=30, kde=True)
plt.title('Distribution of Runtimes')
plt.xlabel('Log of Runtime')
plt.ylabel('Frequency')
plt.xticks(ticks=np.log1p([1e1,1e2,1e3, 1e4, 1e5, 1]), labels=[f'{int(x)}' for x in [1e1,1e2,1e3, 1e4, 1e5, 1]]);


movies_df['runtime'].describe()






percentile_01 = movies_df['runtime'].quantile(0.01)
print(percentile_01)

movies_df[movies_df['runtime'] < percentile_01] = np.nan

#95 percentile
percentile_99 = movies_df['runtime'].quantile(0.999)
print(percentile_99)

max_value = movies_df['runtime'].max()
print(f"Maximum value in the 'runtime' column: {max_value}")
#Removing max
movies_df[movies_df['runtime'] > percentile_99] = np.nan






plt.figure(figsize=(10, 6))
sns.histplot(movies_df['runtime'], bins=30, kde=True)
plt.title('Distribution of Runtime')
plt.xlabel('Runtime')
plt.ylabel('Frequency')





# We are interested in knowing the distribution of movies through the years
# To make it easier, we are going to create new column with only year
df_filtered = movies_df.dropna(subset=['release_year'])

# How many unique values for year are there?
df_filtered = df_filtered[df_filtered['release_year'] >= 1800]
print(df_filtered['release_year'].unique())

plt.figure(figsize=(10, 6))
sns.histplot(df_filtered['release_year'], bins=30, kde=True)
plt.title('Distribution of Movie Release Years')
plt.show()







genre_counts = {}

for genre_list in df_filtered['genres'].dropna():
    for genre in genre_list:
        genre = genre.strip()
        if genre in genre_counts:
            genre_counts[genre] += 1
        else:
            genre_counts[genre] = 1

most_common_genres = sorted(genre_counts.items(), key=lambda x: x[1], reverse=True)[:10]

print("10 Most Popular Genres:")
for genre, count in most_common_genres:
    print(f"{genre}: {count}")








plt.figure(figsize=(10, 6))
genres, counts = zip(*most_common_genres)
sns.barplot(x=genres, y=counts)
plt.title('Top 10 Most Popular Genres')
plt.xlabel('Genre')






plt.figure(figsize=(10, 6))
sns.histplot(df_filtered['popularity'], bins=30, kde=True)
plt.title('Distribution of Movie popularity Scores')
plt.xlabel('popularity Score')
plt.ylabel('Frequency')


df_filtered['popularity'].describe()


# Again, let's also do it in log scale
plt.figure(figsize=(10, 6))
sns.histplot(np.log1p(df_filtered['popularity']), bins=30, kde=True)
plt.title('Distribution of Movie popularity Scores')
plt.xlabel('Log of popularity Score')
plt.xticks(ticks=np.log1p([1e1,1e2,1e3]), labels=[f'{int(x)}' for x in [1e1,1e2,1e3]]);


# Finding 95 quantile and filtering outliers
percentile_95 = df_filtered['popularity'].quantile(0.95)
print(percentile_95)
df_filtered[df_filtered['popularity'] > percentile_95] = np.nan



plt.figure(figsize=(10, 6))
sns.histplot(df_filtered['popularity'], bins=30, kde=True)
plt.title('Distribution of Movie popularity Scores')
plt.xlabel('popularity Score')
plt.ylabel('Frequency')








# We first made dataframes per period (WW1, nonwar, WW2)
ww1_movies_df = movies_df[(movies_df['release_year'] >= 1914) & (movies_df['release_year'] <= 1918)]
ww2_movies_df = movies_df[(movies_df['release_year'] >= 1939) & (movies_df['release_year'] <= 1945)]
non_war_movies_df = movies_df[(movies_df['release_year'] >= 1920) & (movies_df['release_year'] <= 1938)]

# Then we obtained the counts for each movie genre
ww1_genre_counts = ww1_movies_df['genres'].explode().value_counts()
ww2_genre_counts = ww2_movies_df['genres'].explode().value_counts()
non_war_genre_counts = non_war_movies_df['genres'].explode().value_counts()

# And finaly we plotted all the genres with their respectime amount of movies
genre_comparison_df = pd.DataFrame({'WW1': ww1_genre_counts, 'Non-War': non_war_genre_counts, 'WW2': ww2_genre_counts}).fillna(0)
genre_comparison_df.plot(kind='bar', figsize=(14, 7))
plt.title("Comparison of genres During WW1, Non-War Period, and WW2")
plt.xlabel("Genres")
plt.ylabel("Frequency of Movies")
plt.legend(["WW1", "Non-War (1920-1938)", "WW2"])
plt.show()





# Now we repeated the steps from above but, obtained the percentages of each genre and plotted them

ww1_movies_df = movies_df[(movies_df['release_year'] >= 1914) & (movies_df['release_year'] <= 1918)]
ww2_movies_df = movies_df[(movies_df['release_year'] >= 1939) & (movies_df['release_year'] <= 1945)]
non_war_movies_df = movies_df[(movies_df['release_year'] >= 1920) & (movies_df['release_year'] <= 1938)]

ww1_genre_counts = ww1_movies_df['genres'].explode().value_counts()
ww2_genre_counts = ww2_movies_df['genres'].explode().value_counts()
non_war_genre_counts = non_war_movies_df['genres'].explode().value_counts()

# We calculated the percentages by dividung all the counts by the sum of each genre
ww1_genre_percentages = (ww1_genre_counts / ww1_genre_counts.sum()) * 100
ww2_genre_percentages = (ww2_genre_counts / ww2_genre_counts.sum()) * 100
non_war_genre_percentages = (non_war_genre_counts / non_war_genre_counts.sum()) * 100

genre_comparison_df = pd.DataFrame({
    'WW1': ww1_genre_percentages,
    'Non-War': non_war_genre_percentages,
    'WW2': ww2_genre_percentages
}).fillna(0)

genre_comparison_df.plot(kind='bar', figsize=(14, 7))
plt.title("Percentage of genres During WW1, Non-War Period, and WW2")
plt.xlabel("Genres")
plt.ylabel("Percentage of Movies")
plt.legend(["WW1", "Non-War (1920-1938)", "WW2"])
plt.show()





#We repeated the process from above with the difference of getting all the movies instead of only movies from 1920-138

ww1_movies_df = movies_df[(movies_df['release_year'] >= 1914) & (movies_df['release_year'] <= 1918)]
ww2_movies_df = movies_df[(movies_df['release_year'] >= 1939) & (movies_df['release_year'] <= 1945)]
all_movies_df = movies_df

ww1_genre_counts = ww1_movies_df['genres'].explode().value_counts()
ww2_genre_counts = ww2_movies_df['genres'].explode().value_counts()
all_genre_counts = all_movies_df['genres'].explode().value_counts()

ww1_genre_percentages = (ww1_genre_counts / ww1_genre_counts.sum()) * 100
ww2_genre_percentages = (ww2_genre_counts / ww2_genre_counts.sum()) * 100
all_genre_percentages = (all_genre_counts / all_genre_counts.sum()) * 100

genre_comparison_percent_df = pd.DataFrame({
    'WW1': ww1_genre_percentages,
    'All Movies': all_genre_percentages,
    'WW2': ww2_genre_percentages
}).fillna(0)

genre_comparison_percent_df.plot(kind='bar', figsize=(14, 7))
plt.title("Percentage of genres During WW1, All Movies, and WW2")
plt.xlabel("Genres")
plt.ylabel("Percentage of Movies")
plt.legend(["WW1", "All Movies", "WW2"])
plt.tight_layout()
plt.show()





# We first separate the movies by genre and get the amount for each one

movies_exploded_df = movies_df.explode('genres')
genre_counts_by_year = movies_exploded_df.groupby('release_year')['genres'].value_counts().unstack(fill_value=0)

# Then we obtained the percentage relative to all the movies for each genre
genre_percentage_by_year = genre_counts_by_year.div(genre_counts_by_year.sum(axis=1), axis=0) * 100

plt.figure(figsize=(14, 7))

for genre in genre_percentage_by_year.columns:
    plt.plot(genre_percentage_by_year.index, genre_percentage_by_year[genre], label=genre)

plt.title("Percentage of genres Over Time (Respect to All Movies)")
plt.xlabel("Year")
plt.ylabel("Percentage of Movies")
plt.legend(loc='center left', bbox_to_anchor=(1.0, 0.5))
plt.tight_layout()

plt.show()





#To separate the plot above into 4 parts, we followed the same process but created a 2x2 grid

movies_exploded_df = movies_df.explode('genres')
genre_counts_by_year = movies_exploded_df.groupby('release_year')['genres'].value_counts().unstack(fill_value=0)

genre_percentage_by_year = genre_counts_by_year.div(genre_counts_by_year.sum(axis=1), axis=0) * 100
genre_columns = genre_percentage_by_year.columns
num_genres = len(genre_columns)

# Here we created the 2x2 grid
nrows, ncols = 2, 2
fig, axes = plt.subplots(nrows, ncols, figsize=(14, 12))
axes = axes.flatten()
genres_per_plot = (num_genres + nrows * ncols - 1) // (nrows * ncols)  # Ceiling division

#We iterate to plot over the different parts
for i in range(nrows * ncols):
    ax = axes[i]
    start_idx = i * genres_per_plot
    end_idx = min((i + 1) * genres_per_plot, num_genres)

    for genre in genre_columns[start_idx:end_idx]:
        ax.plot(genre_percentage_by_year.index, genre_percentage_by_year[genre], label=genre)

    ax.set_title(f"Genres {start_idx + 1} to {end_idx}")
    ax.set_xlabel("Year")
    ax.set_ylabel("Percentage of Movies")
    ax.legend(loc='upper right')

plt.tight_layout()
plt.show()








plt.figure(figsize=(10, 5))
plt.plot(movie_count_by_year.index, movie_count_by_year.values, marker='o')
plt.xlabel('Year of release')
plt.ylabel('Number of movies')
plt.title('Number of movies released by year')
plt.grid(True)
plt.show()


# We created a dataframe only for movies between 1900-1925 and repeated the steps from above
filtered_movie_count = movie_count_by_year[(movie_count_by_year.index >= 1900) & (movie_count_by_year.index <= 1950)]

plt.figure(figsize=(10, 5))
plt.plot(filtered_movie_count.index, filtered_movie_count.values, marker='o')
plt.xlabel('Year of release')
plt.ylabel('Number of movies')
plt.title('Number of movies released by year (1900-1925)')
plt.grid(True)
plt.show()


# Getting the amount of movies for each war
movies_1914_1919 = movie_count_by_year[(movie_count_by_year.index >= 1914) & (movie_count_by_year.index <= 1918)].sum()
movies_1939_1945 = movie_count_by_year[(movie_count_by_year.index >= 1939) & (movie_count_by_year.index <= 1945)].sum()

print(f"Number of movies from 1914 to 1919: {movies_1914_1919}")
print(f"Number of movies from 1939 to 1945: {movies_1939_1945}")





# Used the same code as before but removed the part for WW1

ww2_movies_df = movies_df[(movies_df['release_year'] >= 1939) & (movies_df['release_year'] <= 1945)]
non_war_movies_df = movies_df[(movies_df['release_year'] >= 1920) & (movies_df['release_year'] <= 1938)]
all_movies_df = movies_df  # All movies in the dataset

ww2_genre_counts = ww2_movies_df['genres'].explode().value_counts()
non_war_genre_counts = non_war_movies_df['genres'].explode().value_counts()

genre_comparison_df = pd.DataFrame({
    'Non-War': non_war_genre_counts,
    'WW2': ww2_genre_counts
}).fillna(0)

plt.figure(figsize=(14, 7))
genre_comparison_df.plot(kind='bar')
plt.title("Comparison of genres during WW2 and Non-War Period")
plt.xlabel("Genres")
plt.ylabel("Frequency of Movies")
plt.legend(["Non-War (1920-1938)", "WW2"])
plt.tight_layout()
plt.show()

ww1_genre_percentages = (ww1_genre_counts / ww1_genre_counts.sum()) * 100
ww2_genre_percentages = (ww2_genre_counts / ww2_genre_counts.sum()) * 100
non_war_genre_percentages = (non_war_genre_counts / non_war_genre_counts.sum()) * 100

genre_comparison_percent_df = pd.DataFrame({
    'Non-War': non_war_genre_percentages,
    'WW2': ww2_genre_percentages
}).fillna(0)

plt.figure(figsize=(14, 7))
genre_comparison_percent_df.plot(kind='bar')
plt.title("Percentage of genres during WW2 and Non-War Period")
plt.xlabel("Genres")
plt.ylabel("Percentage of Movies")
plt.legend(["Non-War (1920-1938)", "WW2"])
plt.tight_layout()
plt.show()

all_genre_counts = all_movies_df['genres'].explode().value_counts()

ww2_genre_percentages = (ww2_genre_counts / ww2_genre_counts.sum()) * 100
all_genre_percentages = (all_genre_counts / all_genre_counts.sum()) * 100

genre_comparison_percent_all_df = pd.DataFrame({
    'All Movies': all_genre_percentages,
    'WW2': ww2_genre_percentages
}).fillna(0)

plt.figure(figsize=(14, 7))
genre_comparison_percent_all_df.plot(kind='bar')
plt.title("Percentage of genres of All Movies, and WW2 movies")
plt.xlabel("Genres")
plt.ylabel("Percentage of Movies")
plt.legend(["All Movies", "WW2"])
plt.tight_layout()
plt.show()









# First we get only the war movies and group them by year to get the total number of movies
war_movies_df = movies_df[movies_df['genres'].apply(lambda x: 'War' in x if isinstance(x, list) else False)]
war_movie_count_by_year = war_movies_df.groupby('release_year').size()
total_movies_by_year = movies_df.groupby('release_year').size()

# Then we calculate the percentage
war_percentage_by_year = (war_movie_count_by_year / total_movies_by_year) * 100

fig, ax1 = plt.subplots(figsize=(10, 5))
ax1.plot(total_movies_by_year.index, total_movies_by_year.values, color='blue', label='Total Movies')
ax1.plot(war_movie_count_by_year.index, war_movie_count_by_year.values, color='darkred', label='War Movies')
ax1.set_xlabel('Year')
ax1.set_ylabel('Total Number of Movies / War Movies', color='blue')
ax1.tick_params(axis='y', labelcolor='blue')

ax2 = ax1.twinx()
ax2.plot(war_percentage_by_year.index, war_percentage_by_year.values, color='green', label='% War Movies', linestyle='--')
ax2.set_ylabel('Percentage of War Movies', color='green')
ax2.tick_params(axis='y', labelcolor='green')

ax1.axvspan(1914, 1918, color='lightblue', alpha=0.3, label="WW1 Period (1914-1918)")
ax1.axvspan(1939, 1945, color='lightblue', alpha=0.3, label="WW2 Period (1939-1945)")

plt.title('Total Movies, War Movies, and Percentage of War Movies Released by Year')
ax1.grid(True)
ax1.legend(loc='upper left')

plt.tight_layout()
plt.show()


#Now we get the number for the percentage printed out
war_movies_df = movies_df[movies_df['genres'].apply(lambda x: 'War' in x if isinstance(x, list) else False)]

total_movies = len(movies_df)

total_war_movies = len(war_movies_df)

total_war_percentage = (total_war_movies / total_movies) * 100

ww1_movies_df = movies_df[(movies_df['release_year'] >= 1914) & (movies_df['release_year'] <= 1918)]
ww2_movies_df = movies_df[(movies_df['release_year'] >= 1939) & (movies_df['release_year'] <= 1945)]
non_war_movies_df = movies_df[(movies_df['release_year'] >= 1920) & (movies_df['release_year'] <= 1938)]

ww1_war_movies_df = ww1_movies_df[ww1_movies_df['genres'].apply(lambda x: 'War' in x if isinstance(x, list) else False)]
ww2_war_movies_df = ww2_movies_df[ww2_movies_df['genres'].apply(lambda x: 'War' in x if isinstance(x, list) else False)]
non_war_war_movies_df = non_war_movies_df[non_war_movies_df['genres'].apply(lambda x: 'War' in x if isinstance(x, list) else False)]

ww1_war_percentage = (len(ww1_war_movies_df) / len(ww1_movies_df)) * 100 if len(ww1_movies_df) > 0 else 0
ww2_war_percentage = (len(ww2_war_movies_df) / len(ww2_movies_df)) * 100 if len(ww2_movies_df) > 0 else 0
non_war_war_percentage = (len(non_war_war_movies_df) / len(non_war_movies_df)) * 100 if len(non_war_movies_df) > 0 else 0

print(f"Percentage of War Movies in the Entire Dataset: {total_war_percentage:.2f}%")
print(f"Percentage of War Movies During WW1 (1914-1918): {ww1_war_percentage:.2f}%")
print(f"Percentage of War Movies During WW2 (1939-1945): {ww2_war_percentage:.2f}%")
print(f"Percentage of War Movies During Non-War Period (1920-1938): {non_war_war_percentage:.2f}%")



#Used the same code as before but now for Crime movies
crime_movies_df = movies_df[movies_df['genres'].apply(lambda x: 'Crime' in x if isinstance(x, list) else False)]

crime_movie_count_by_year = crime_movies_df.groupby('release_year').size()
total_movies_by_year = movies_df.groupby('release_year').size()
crime_percentage_by_year = (crime_movie_count_by_year / total_movies_by_year) * 100

fig, ax1 = plt.subplots(figsize=(10, 5))

ax1.plot(total_movies_by_year.index, total_movies_by_year.values, color='blue', label='Total Movies')
ax1.plot(crime_movie_count_by_year.index, crime_movie_count_by_year.values, color='darkred', label='Crime Movies')
ax1.set_xlabel('Year')
ax1.set_ylabel('Total Number of Movies / Crime Movies', color='blue')
ax1.tick_params(axis='y', labelcolor='blue')

ax2 = ax1.twinx()
ax2.plot(crime_percentage_by_year.index, crime_percentage_by_year.values, color='green', label='% Crime Movies', linestyle='--')
ax2.set_ylabel('Percentage of Crime Movies', color='green')
ax2.tick_params(axis='y', labelcolor='green')

ax1.axvspan(1914, 1918, color='lightblue', alpha=0.3, label="WW1 Period (1914-1918)")
ax1.axvspan(1939, 1945, color='lightblue', alpha=0.3, label="WW2 Period (1939-1945)")

plt.title('Total Movies, Crime Movies, and Percentage of Crime Movies Released by Year')
ax1.grid(True)
ax1.legend(loc='upper left')

plt.tight_layout()
plt.show()



#Now we get the number for the percentage printed out
crime_movies_df = movies_df[movies_df['genres'].apply(lambda x: 'Crime' in x if isinstance(x, list) else False)]

total_movies = len(movies_df)

total_crime_movies = len(crime_movies_df)

total_crime_percentage = (total_crime_movies / total_movies) * 100

ww1_movies_df = movies_df[(movies_df['release_year'] >= 1914) & (movies_df['release_year'] <= 1918)]
ww2_movies_df = movies_df[(movies_df['release_year'] >= 1939) & (movies_df['release_year'] <= 1945)]
non_war_movies_df = movies_df[(movies_df['release_year'] >= 1920) & (movies_df['release_year'] <= 1938)]

ww1_crime_movies_df = ww1_movies_df[ww1_movies_df['genres'].apply(lambda x: 'Crime' in x if isinstance(x, list) else False)]
ww2_crime_movies_df = ww2_movies_df[ww2_movies_df['genres'].apply(lambda x: 'Crime' in x if isinstance(x, list) else False)]
non_war_crime_movies_df = non_war_movies_df[non_war_movies_df['genres'].apply(lambda x: 'Crime' in x if isinstance(x, list) else False)]

ww1_crime_percentage = (len(ww1_crime_movies_df) / len(ww1_movies_df)) * 100 if len(ww1_movies_df) > 0 else 0
ww2_crime_percentage = (len(ww2_crime_movies_df) / len(ww2_movies_df)) * 100 if len(ww2_movies_df) > 0 else 0
non_war_crime_percentage = (len(non_war_crime_movies_df) / len(non_war_movies_df)) * 100 if len(non_war_movies_df) > 0 else 0

print(f"Percentage of Crime Movies in the Entire Dataset: {total_crime_percentage:.2f}%")
print(f"Percentage of Crime Movies During WW1 (1914-1918): {ww1_crime_percentage:.2f}%")
print(f"Percentage of Crime Movies During WW2 (1939-1945): {ww2_crime_percentage:.2f}%")
print(f"Percentage of Crime Movies During Non-War Period (1920-1938): {non_war_crime_percentage:.2f}%")



#Used the same code as before but now for Mystery movies
mystery_movies_df = movies_df[movies_df['genres'].apply(lambda x: 'Mystery' in x if isinstance(x, list) else False)]
mystery_movie_count_by_year = mystery_movies_df.groupby('release_year').size()
total_movies_by_year = movies_df.groupby('release_year').size()
mystery_percentage_by_year = (mystery_movie_count_by_year / total_movies_by_year) * 100

fig, ax1 = plt.subplots(figsize=(10, 5))

ax1.plot(total_movies_by_year.index, total_movies_by_year.values, color='blue', label='Total Movies')
ax1.plot(mystery_movie_count_by_year.index, mystery_movie_count_by_year.values, color='purple', label='Mystery Movies')
ax1.set_xlabel('Year')
ax1.set_ylabel('Total Number of Movies / Mystery Movies', color='blue')
ax1.tick_params(axis='y', labelcolor='blue')

ax2 = ax1.twinx()
ax2.plot(mystery_percentage_by_year.index, mystery_percentage_by_year.values, color='green', label='% Mystery Movies', linestyle='--')
ax2.set_ylabel('Percentage of Mystery Movies', color='green')
ax2.tick_params(axis='y', labelcolor='green')

ax1.axvspan(1914, 1918, color='lightblue', alpha=0.3, label="WW1 Period (1914-1918)")
ax1.axvspan(1939, 1945, color='lightblue', alpha=0.3, label="WW2 Period (1939-1945)")

plt.title('Total Movies, Mystery Movies, and Percentage of Mystery Movies Released by Year')
ax1.grid(True)
ax1.legend(loc='upper left')

plt.tight_layout()
plt.show()



#Now we get the number for the percentage printed out
mystery_movies_df = movies_df[movies_df['genres'].apply(lambda x: 'Mystery' in x if isinstance(x, list) else False)]

total_movies = len(movies_df)

total_mystery_movies = len(mystery_movies_df)

total_mystery_percentage = (total_mystery_movies / total_movies) * 100

ww1_movies_df = movies_df[(movies_df['release_year'] >= 1914) & (movies_df['release_year'] <= 1918)]
ww2_movies_df = movies_df[(movies_df['release_year'] >= 1939) & (movies_df['release_year'] <= 1945)]
non_war_movies_df = movies_df[(movies_df['release_year'] >= 1920) & (movies_df['release_year'] <= 1938)]

ww1_mystery_movies_df = ww1_movies_df[ww1_movies_df['genres'].apply(lambda x: 'Mystery' in x if isinstance(x, list) else False)]
ww2_mystery_movies_df = ww2_movies_df[ww2_movies_df['genres'].apply(lambda x: 'Mystery' in x if isinstance(x, list) else False)]
non_war_mystery_movies_df = non_war_movies_df[non_war_movies_df['genres'].apply(lambda x: 'Mystery' in x if isinstance(x, list) else False)]

ww1_mystery_percentage = (len(ww1_mystery_movies_df) / len(ww1_movies_df)) * 100 if len(ww1_movies_df) > 0 else 0
ww2_mystery_percentage = (len(ww2_mystery_movies_df) / len(ww2_movies_df)) * 100 if len(ww2_movies_df) > 0 else 0
non_war_mystery_percentage = (len(non_war_mystery_movies_df) / len(non_war_movies_df)) * 100 if len(non_war_movies_df) > 0 else 0

print(f"Percentage of Mystery Movies in the Entire Dataset: {total_mystery_percentage:.2f}%")
print(f"Percentage of Mystery Movies During WW1 (1914-1918): {ww1_mystery_percentage:.2f}%")
print(f"Percentage of Mystery Movies During WW2 (1939-1945): {ww2_mystery_percentage:.2f}%")
print(f"Percentage of Mystery Movies During Non-War Period (1920-1938): {non_war_mystery_percentage:.2f}%")



#Used the same code as before but now for Documentary movies but applied log so results are better visualy

documentary_movies_df = movies_df[movies_df['genres'].apply(lambda x: 'Documentary' in x if isinstance(x, list) else False)]
documentary_movie_count_by_year = documentary_movies_df.groupby('release_year').size()
total_movies_by_year = movies_df.groupby('release_year').size()

documentary_movie_count_by_year = documentary_movie_count_by_year[documentary_movie_count_by_year.index >= 1900]
total_movies_by_year = total_movies_by_year[total_movies_by_year.index >= 1910]

documentary_percentage_by_year = (documentary_movie_count_by_year / total_movies_by_year) * 100

fig, ax1 = plt.subplots(figsize=(10, 5))

# We apply log function
ax1.plot(total_movies_by_year.index, np.log1p(total_movies_by_year.values), color='blue', label='Log of Total Movies')
ax1.plot(documentary_movie_count_by_year.index, np.log1p(documentary_movie_count_by_year.values), color='brown', label='Log of Documentary Movies')
ax1.set_xlabel('Year')
ax1.set_ylabel('Log of Total Number of Movies / Log of Documentary Movies', color='blue')
ax1.tick_params(axis='y', labelcolor='blue')

ax2 = ax1.twinx()
ax2.plot(documentary_percentage_by_year.index, documentary_percentage_by_year.values, color='green', label=f'Scaled % Documentary Movies', linestyle='--')
ax2.set_ylabel('Scaled Percentage of Documentary Movies', color='green')
ax2.tick_params(axis='y', labelcolor='green')

ax1.axvspan(1914, 1918, color='lightblue', alpha=0.3, label="WW1 Period (1914-1918)")
ax1.axvspan(1939, 1945, color='lightblue', alpha=0.3, label="WW2 Period (1939-1945)")

plt.title('Total Movies, Documentary Movies (Log Scale), and Scaled Percentage of Documentary Movies Released by Year (Starting from 1900)')

ax1.grid(True)
ax1.legend(loc='upper left')

plt.tight_layout()
plt.show()






#Now we get the number for the percentage printed out
documentary_movies_df = movies_df[movies_df['genres'].apply(lambda x: 'Documentary' in x if isinstance(x, list) else False)]

total_movies = len(movies_df)

total_documentary_movies = len(documentary_movies_df)

total_documentary_percentage = (total_documentary_movies / total_movies) * 100

ww1_movies_df = movies_df[(movies_df['release_year'] >= 1914) & (movies_df['release_year'] <= 1918)]
ww2_movies_df = movies_df[(movies_df['release_year'] >= 1939) & (movies_df['release_year'] <= 1945)]
non_war_movies_df = movies_df[(movies_df['release_year'] >= 1920) & (movies_df['release_year'] <= 1938)]

ww1_documentary_movies_df = ww1_movies_df[ww1_movies_df['genres'].apply(lambda x: 'Documentary' in x if isinstance(x, list) else False)]
ww2_documentary_movies_df = ww2_movies_df[ww2_movies_df['genres'].apply(lambda x: 'Documentary' in x if isinstance(x, list) else False)]
non_war_documentary_movies_df = non_war_movies_df[non_war_movies_df['genres'].apply(lambda x: 'Documentary' in x if isinstance(x, list) else False)]

ww1_documentary_percentage = (len(ww1_documentary_movies_df) / len(ww1_movies_df)) * 100 if len(ww1_movies_df) > 0 else 0
ww2_documentary_percentage = (len(ww2_documentary_movies_df) / len(ww2_movies_df)) * 100 if len(ww2_movies_df) > 0 else 0
non_war_documentary_percentage = (len(non_war_documentary_movies_df) / len(non_war_movies_df)) * 100 if len(non_war_movies_df) > 0 else 0

print(f"Percentage of Documentary Movies in the Entire Dataset: {total_documentary_percentage:.2f}%")
print(f"Percentage of Documentary Movies During WW1 (1914-1918): {ww1_documentary_percentage:.2f}%")
print(f"Percentage of Documentary Movies During WW2 (1939-1945): {ww2_documentary_percentage:.2f}%")
print(f"Percentage of Documentary Movies During Non-War Period (1920-1938): {non_war_documentary_percentage:.2f}%")



#Used the same code as before but now for Action movies
action_movies_df = movies_df[movies_df['genres'].apply(lambda x: 'Action' in x if isinstance(x, list) else False)]

action_movie_count_by_year = action_movies_df.groupby('release_year').size()
total_movies_by_year = movies_df.groupby('release_year').size()
action_percentage_by_year = (action_movie_count_by_year / total_movies_by_year) * 100

fig, ax1 = plt.subplots(figsize=(10, 5))

ax1.plot(total_movies_by_year.index, total_movies_by_year.values, color='blue', label='Total Movies')
ax1.plot(action_movie_count_by_year.index, action_movie_count_by_year.values, color='darkred', label='Action Movies')
ax1.set_xlabel('Year')
ax1.set_ylabel('Total Number of Movies / Action Movies', color='blue')
ax1.tick_params(axis='y', labelcolor='blue')

ax2 = ax1.twinx()
ax2.plot(action_percentage_by_year.index, action_percentage_by_year.values, color='green', label='% Action Movies', linestyle='--')
ax2.set_ylabel('Percentage of Action Movies', color='green')
ax2.tick_params(axis='y', labelcolor='green')

ax1.axvspan(1914, 1918, color='lightblue', alpha=0.3, label="WW1 Period (1914-1918)")
ax1.axvspan(1939, 1945, color='lightblue', alpha=0.3, label="WW2 Period (1939-1945)")

plt.title('Total Movies, Action Movies, and Percentage of Action Movies Released by Year')
ax1.grid(True)
ax1.legend(loc='upper left')

plt.tight_layout()
plt.show()


#Now we get the number for the percentage printed out
action_movies_df = movies_df[movies_df['genres'].apply(lambda x: 'Action' in x if isinstance(x, list) else False)]

total_movies = len(movies_df)

total_action_movies = len(action_movies_df)

total_action_percentage = (total_action_movies / total_movies) * 100

ww1_movies_df = movies_df[(movies_df['release_year'] >= 1914) & (movies_df['release_year'] <= 1918)]
ww2_movies_df = movies_df[(movies_df['release_year'] >= 1939) & (movies_df['release_year'] <= 1945)]
non_war_movies_df = movies_df[(movies_df['release_year'] >= 1920) & (movies_df['release_year'] <= 1938)]

ww1_action_movies_df = ww1_movies_df[ww1_movies_df['genres'].apply(lambda x: 'Action' in x if isinstance(x, list) else False)]
ww2_action_movies_df = ww2_movies_df[ww2_movies_df['genres'].apply(lambda x: 'Action' in x if isinstance(x, list) else False)]
non_war_action_movies_df = non_war_movies_df[non_war_movies_df['genres'].apply(lambda x: 'Action' in x if isinstance(x, list) else False)]

ww1_action_percentage = (len(ww1_action_movies_df) / len(ww1_movies_df)) * 100 if len(ww1_movies_df) > 0 else 0
ww2_action_percentage = (len(ww2_action_movies_df) / len(ww2_movies_df)) * 100 if len(ww2_movies_df) > 0 else 0
non_war_action_percentage = (len(non_war_action_movies_df) / len(non_war_movies_df)) * 100 if len(non_war_movies_df) > 0 else 0

print(f"Percentage of Action Movies in the Entire Dataset: {total_action_percentage:.2f}%")
print(f"Percentage of Action Movies During WW1 (1914-1918): {ww1_action_percentage:.2f}%")
print(f"Percentage of Action Movies During WW2 (1939-1945): {ww2_action_percentage:.2f}%")
print(f"Percentage of Action Movies During Non-War Period (1920-1938): {non_war_action_percentage:.2f}%")



#Used the same code as before but now for Adventure movies

adventure_movies_df = movies_df[movies_df['genres'].apply(lambda x: 'Adventure' in x if isinstance(x, list) else False)]
adventure_movie_count_by_year = adventure_movies_df.groupby('release_year').size()
total_movies_by_year = movies_df.groupby('release_year').size()

adventure_percentage_by_year = (adventure_movie_count_by_year / total_movies_by_year) * 100

fig, ax1 = plt.subplots(figsize=(10, 5))

ax1.plot(total_movies_by_year.index, total_movies_by_year.values, color='blue', label='Total Movies')
ax1.plot(adventure_movie_count_by_year.index, adventure_movie_count_by_year.values, color='darkred', label='Adventure Movies')
ax1.set_xlabel('Year')
ax1.set_ylabel('Total Number of Movies / Adventure Movies', color='blue')
ax1.tick_params(axis='y', labelcolor='blue')

ax2 = ax1.twinx()
ax2.plot(adventure_percentage_by_year.index, adventure_percentage_by_year.values, color='green', label='% Adventure Movies', linestyle='--')
ax2.set_ylabel('Percentage of Adventure Movies', color='green')
ax2.tick_params(axis='y', labelcolor='green')

ax1.axvspan(1914, 1918, color='lightblue', alpha=0.3, label="WW1 Period (1914-1918)")
ax1.axvspan(1939, 1945, color='lightblue', alpha=0.3, label="WW2 Period (1939-1945)")

plt.title('Total Movies, Adventure Movies, and Percentage of Adventure Movies Released by Year')

ax1.grid(True)

ax1.legend(loc='upper left')


plt.tight_layout()
plt.show()



#Now we get the number for the percentage printed out
adventure_movies_df = movies_df[movies_df['genres'].apply(lambda x: 'Adventure' in x if isinstance(x, list) else False)]

total_movies = len(movies_df)

total_adventure_movies = len(adventure_movies_df)

total_adventure_percentage = (total_adventure_movies / total_movies) * 100

ww1_movies_df = movies_df[(movies_df['release_year'] >= 1914) & (movies_df['release_year'] <= 1918)]
ww2_movies_df = movies_df[(movies_df['release_year'] >= 1939) & (movies_df['release_year'] <= 1945)]
non_war_movies_df = movies_df[(movies_df['release_year'] >= 1920) & (movies_df['release_year'] <= 1938)]

ww1_adventure_movies_df = ww1_movies_df[ww1_movies_df['genres'].apply(lambda x: 'Adventure' in x if isinstance(x, list) else False)]
ww2_adventure_movies_df = ww2_movies_df[ww2_movies_df['genres'].apply(lambda x: 'Adventure' in x if isinstance(x, list) else False)]
non_war_adventure_movies_df = non_war_movies_df[non_war_movies_df['genres'].apply(lambda x: 'Adventure' in x if isinstance(x, list) else False)]

ww1_adventure_percentage = (len(ww1_adventure_movies_df) / len(ww1_movies_df)) * 100 if len(ww1_movies_df) > 0 else 0
ww2_adventure_percentage = (len(ww2_adventure_movies_df) / len(ww2_movies_df)) * 100 if len(ww2_movies_df) > 0 else 0
non_war_adventure_percentage = (len(non_war_adventure_movies_df) / len(non_war_movies_df)) * 100 if len(non_war_movies_df) > 0 else 0

print(f"Percentage of Adventure Movies in the Entire Dataset: {total_adventure_percentage:.2f}%")
print(f"Percentage of Adventure Movies During WW1 (1914-1918): {ww1_adventure_percentage:.2f}%")
print(f"Percentage of Adventure Movies During WW2 (1939-1945): {ww2_adventure_percentage:.2f}%")
print(f"Percentage of Adventure Movies During Non-War Period (1920-1938): {non_war_adventure_percentage:.2f}%")









# To see the dispersion of our countries we loaded them into a list, counted them and proceeded to plot them
countries_list = [country for sublist in movies_df['countries'].dropna() for country in sublist]
country_counts = pd.Series(countries_list).value_counts()

top_countries = country_counts.head(10)

plt.figure(figsize=(10, 6))
top_countries.plot(kind='bar', color='skyblue')
plt.title('Top 10 Most Common countries')
plt.xlabel('Country')
plt.ylabel('Number of Movies')
plt.xticks(rotation=45)
plt.show()


# For this analyisis the extra step is obtaining only movies from the US
us_movies_df = movies_df[movies_df['countries'].apply(lambda x: 'United States of America' in x if isinstance(x, list) else False)]

war_movies_us_df = us_movies_df[us_movies_df['genres'].apply(lambda x: 'War' in x if isinstance(x, list) else False)]
war_movie_count_by_year = war_movies_us_df.groupby('release_year').size()
total_movies_by_year = us_movies_df.groupby('release_year').size()
war_percentage_by_year = (war_movie_count_by_year / total_movies_by_year) * 100

fig, ax1 = plt.subplots(figsize=(10, 5))

ax1.plot(total_movies_by_year.index, total_movies_by_year.values, color='blue', label='Total US Movies')
ax1.plot(war_movie_count_by_year.index, war_movie_count_by_year.values, color='darkred', label='US War Movies')
ax1.set_xlabel('Year')
ax1.set_ylabel('Total Number of Movies / War Movies', color='blue')
ax1.tick_params(axis='y', labelcolor='blue')

ax2 = ax1.twinx()
ax2.plot(war_percentage_by_year.index, war_percentage_by_year.values, color='green', label='% US War Movies', linestyle='--')
ax2.set_ylabel('Percentage of War Movies', color='green')
ax2.tick_params(axis='y', labelcolor='green')

ax1.axvspan(1914, 1918, color='lightblue', alpha=0.3, label="WW1 Period (1914-1918)")
ax1.axvspan(1939, 1945, color='lightblue', alpha=0.3, label="WW2 Period (1939-1945)")

plt.title('Total US Movies, US War Movies, and Percentage of US War Movies Released by Year')

ax1.grid(True)
ax1.legend(loc='upper left')

plt.tight_layout()
plt.show()


# Similar to the previous plot but replacing the US for the UK
uk_movies_df = movies_df[movies_df['countries'].apply(lambda x: 'United Kingdom' in x if isinstance(x, list) else False)]

war_movies_uk_df = uk_movies_df[uk_movies_df['genres'].apply(lambda x: 'War' in x if isinstance(x, list) else False)]
war_movie_count_by_year = war_movies_uk_df.groupby('release_year').size()
total_movies_by_year = uk_movies_df.groupby('release_year').size()
war_percentage_by_year = (war_movie_count_by_year / total_movies_by_year) * 100

fig, ax1 = plt.subplots(figsize=(10, 5))

ax1.plot(total_movies_by_year.index, total_movies_by_year.values, color='blue', label='Total UK Movies')
ax1.plot(war_movie_count_by_year.index, war_movie_count_by_year.values, color='darkred', label='UK War Movies')
ax1.set_xlabel('Year')
ax1.set_ylabel('Total Number of Movies / War Movies', color='blue')
ax1.tick_params(axis='y', labelcolor='blue')

ax2 = ax1.twinx()
ax2.plot(war_percentage_by_year.index, war_percentage_by_year.values, color='green', label='% UK War Movies', linestyle='--')
ax2.set_ylabel('Percentage of War Movies', color='green')
ax2.tick_params(axis='y', labelcolor='green')

ax1.axvspan(1914, 1918, color='lightblue', alpha=0.3, label="WW1 Period (1914-1918)")
ax1.axvspan(1939, 1945, color='lightblue', alpha=0.3, label="WW2 Period (1939-1945)")

plt.title('Total UK Movies, UK War Movies, and Percentage of UK War Movies Released by Year')

ax1.grid(True)
ax1.legend(loc='upper left')

plt.tight_layout()
plt.show()






#Print all the different countries so chatGPT will be able to tell us the different names for the Soviet Union and Germany
unique_countries = pd.Series([country for sublist in movies_df['countries'].dropna() for country in sublist]).unique()
print(unique_countries)


# Almost the same process than with the US and the UK but because Germany had different names during the war we asked chatGPT to give us the different names for Germany
germany_related = ['Germany', 'German Democratic Republic', 'West Germany', 'Nazi Germany']

germany_movies_df = movies_df[movies_df['countries'].apply(lambda x: any(country in germany_related for country in x) if isinstance(x, list) else False)]
war_movies_germany_df = germany_movies_df[germany_movies_df['genres'].apply(lambda x: 'War' in x if isinstance(x, list) else False)]
war_movie_count_by_year = war_movies_germany_df.groupby('release_year').size()
total_movies_by_year = germany_movies_df.groupby('release_year').size()
war_percentage_by_year = (war_movie_count_by_year / total_movies_by_year) * 100

fig, ax1 = plt.subplots(figsize=(10, 5))

ax1.plot(total_movies_by_year.index, total_movies_by_year.values, color='blue', label='Total Germany-related Movies')
ax1.plot(war_movie_count_by_year.index, war_movie_count_by_year.values, color='darkred', label='Germany-related War Movies')
ax1.set_xlabel('Year')
ax1.set_ylabel('Total Number of Movies / War Movies', color='blue')
ax1.tick_params(axis='y', labelcolor='blue')

ax2 = ax1.twinx()
ax2.plot(war_percentage_by_year.index, war_percentage_by_year.values, color='green', label='% Germany-related War Movies', linestyle='--')
ax2.set_ylabel('Percentage of War Movies', color='green')
ax2.tick_params(axis='y', labelcolor='green')

ax1.axvspan(1914, 1918, color='lightblue', alpha=0.3, label="WW1 Period (1914-1918)")
ax1.axvspan(1939, 1945, color='lightblue', alpha=0.3, label="WW2 Period (1939-1945)")

plt.title('Total Germany-related Movies, Germany-related War Movies, and Percentage of Germany-related War Movies Released by Year')

ax1.grid(True)

ax1.legend(loc='upper left')

plt.tight_layout()
plt.show()






india_movies_df = movies_df[movies_df['countries'].apply(lambda x: 'India' in x if isinstance(x, list) else False)]

war_movies_india_df = india_movies_df[india_movies_df['genres'].apply(lambda x: 'War' in x if isinstance(x, list) else False)]

war_movie_count_by_year = war_movies_india_df.groupby('release_year').size()

total_movies_by_year = india_movies_df.groupby('release_year').size()

war_percentage_by_year = (war_movie_count_by_year / total_movies_by_year) * 100

fig, ax1 = plt.subplots(figsize=(10, 5))

ax1.plot(total_movies_by_year.index, total_movies_by_year.values, color='blue', label='Total India Movies')
ax1.plot(war_movie_count_by_year.index, war_movie_count_by_year.values, color='darkred', label='India War Movies')
ax1.set_xlabel('Year')
ax1.set_ylabel('Total Number of Movies / War Movies', color='blue')
ax1.tick_params(axis='y', labelcolor='blue')

ax2 = ax1.twinx()
ax2.plot(war_percentage_by_year.index, war_percentage_by_year.values, color='green', label='% India War Movies', linestyle='--')
ax2.set_ylabel('Percentage of War Movies', color='green')
ax2.tick_params(axis='y', labelcolor='green')

ax1.axvspan(1914, 1918, color='lightblue', alpha=0.3, label="WW1 Period (1914-1918)")
ax1.axvspan(1939, 1945, color='lightblue', alpha=0.3, label="WW2 Period (1939-1945)")

plt.title('Total India Movies, India War Movies, and Percentage of India War Movies Released by Year')

ax1.grid(True)

ax1.legend(loc='upper left')

plt.tight_layout()
plt.show()









# This code is very similar to previous ones but with the difference of changing the period for our plot and highlighting the space race instead
movies_df['genres'] = movies_df['genres'].apply(lambda x: eval(x) if isinstance(x, str) else x)

sci_fi_movies_df = movies_df[movies_df['genres'].apply(lambda x: 'Science Fiction' in x if isinstance(x, list) else False)]

sci_fi_movie_count_by_year = sci_fi_movies_df.groupby('release_year').size()

total_movies_by_year = movies_df.groupby('release_year').size()

sci_fi_percentage_by_year = (sci_fi_movie_count_by_year / total_movies_by_year) * 100

start_year, end_year = 1930, 1980
sci_fi_movie_count_by_year = sci_fi_movie_count_by_year[(sci_fi_movie_count_by_year.index >= start_year) & (sci_fi_movie_count_by_year.index <= end_year)]
total_movies_by_year = total_movies_by_year[(total_movies_by_year.index >= start_year) & (total_movies_by_year.index <= end_year)]
sci_fi_percentage_by_year = sci_fi_percentage_by_year[(sci_fi_percentage_by_year.index >= start_year) & (sci_fi_percentage_by_year.index <= end_year)]

fig, ax1 = plt.subplots(figsize=(12, 4))

ax1.plot(total_movies_by_year.index, total_movies_by_year.values, color='blue', label='Total Movies')
ax1.plot(sci_fi_movie_count_by_year.index, sci_fi_movie_count_by_year.values, color='darkred', label='Science Fiction Movies')
ax1.set_xlabel('Year')
ax1.set_ylabel('Total Number of Movies / Sci-Fi Movies', color='blue')
ax1.tick_params(axis='y', labelcolor='blue')

ax2 = ax1.twinx()
ax2.plot(sci_fi_percentage_by_year.index, sci_fi_percentage_by_year.values, color='green', label='% Sci-Fi Movies', linestyle='--')
ax2.set_ylabel('Percentage of Sci-Fi Movies', color='green')
ax2.tick_params(axis='y', labelcolor='green')

ax1.axvspan(1957, 1975, color='lightblue', alpha=0.3, label="Space Race Period (1957-1975)")

plt.title('Total Movies, Science Fiction Movies, and Percentage of Sci-Fi Movies Released by Year (1940-1990)')

ax1.grid(True)

ax1.legend(loc='upper left')

plt.tight_layout()
plt.show()








# Now we get the US movies only
movies_df['genres'] = movies_df['genres'].apply(lambda x: eval(x) if isinstance(x, str) else x)

us_movies_df = movies_df[movies_df['countries'].apply(lambda x: 'United States of America' in x if isinstance(x, list) else False)]
sci_fi_movies_us_df = us_movies_df[us_movies_df['genres'].apply(lambda x: 'Science Fiction' in x if isinstance(x, list) else False)]
sci_fi_movie_count_by_year = sci_fi_movies_us_df.groupby('release_year').size()
total_movies_by_year = us_movies_df.groupby('release_year').size()
sci_fi_percentage_by_year = (sci_fi_movie_count_by_year / total_movies_by_year) * 100

start_year, end_year = 1930, 1980
sci_fi_movie_count_by_year = sci_fi_movie_count_by_year[(sci_fi_movie_count_by_year.index >= start_year) & (sci_fi_movie_count_by_year.index <= end_year)]
total_movies_by_year = total_movies_by_year[(total_movies_by_year.index >= start_year) & (total_movies_by_year.index <= end_year)]
sci_fi_percentage_by_year = sci_fi_percentage_by_year[(sci_fi_percentage_by_year.index >= start_year) & (sci_fi_percentage_by_year.index <= end_year)]

fig, ax1 = plt.subplots(figsize=(12, 4))

ax1.plot(total_movies_by_year.index, total_movies_by_year.values, color='blue', label='Total US Movies')
ax1.plot(sci_fi_movie_count_by_year.index, sci_fi_movie_count_by_year.values, color='darkred', label='US Science Fiction Movies')
ax1.set_xlabel('Year')
ax1.set_ylabel('Total Number of Movies / Sci-Fi Movies', color='blue')
ax1.tick_params(axis='y', labelcolor='blue')

ax2 = ax1.twinx()
ax2.plot(sci_fi_percentage_by_year.index, sci_fi_percentage_by_year.values, color='green', label='% Sci-Fi Movies', linestyle='--')
ax2.set_ylabel('Percentage of Sci-Fi Movies', color='green')
ax2.tick_params(axis='y', labelcolor='green')

ax1.axvspan(1957, 1975, color='lightblue', alpha=0.3, label="Space Race Period (1957-1975)")

plt.title('Total US Movies, Science Fiction Movies, and Percentage of Sci-Fi Movies Released by Year (1940-1990)')

ax1.grid(True)

ax1.legend(loc='upper left')

plt.tight_layout()
plt.show()






# Similar to what we did with Germany, we asked chatGPT for the names of the SSR or countries that belonged to it
soviet_countries = [
    'Soviet Union', 'Russia', 'Ukraine', 'Uzbekistan', 'Georgia', 'Armenia',
    'Azerbaijan', 'Kazakhstan', 'Belarus', 'Moldova', 'Lithuania', 'Latvia',
    'Estonia', 'Turkmenistan', 'Kyrgyzstan', 'Tajikistan', 'Turkish SSR',
    'Uzbek SSR', 'German Democratic Republic', 'Czechoslovakia', 'Poland'
]


soviet_movies_df = movies_df[movies_df['countries'].apply(lambda x: any(country in soviet_countries for country in x) if isinstance(x, list) else False)]
movie_count_by_year = soviet_movies_df.groupby('release_year').size()

start_year, end_year = 1930, 1980
movie_count_by_year = movie_count_by_year[(movie_count_by_year.index >= start_year) & (movie_count_by_year.index <= end_year)]

fig, ax = plt.subplots(figsize=(12, 6))

ax.plot(movie_count_by_year.index, movie_count_by_year.values, color='blue', label='Total Movies')

ax.set_title('Total Movies Released by Year (1930-1980) from Soviet Union and Affiliates')
ax.set_xlabel('Year')
ax.set_ylabel('Total Number of Movies')

ax.grid(True)

ax.legend(loc='upper left')

plt.tight_layout()
plt.show()






#Now we gather documentary movies
documentary_movies_df = movies_df[movies_df['genres'].apply(lambda x: 'Documentary' in x if isinstance(x, list) else False)]
documentary_movie_count_by_year = documentary_movies_df.groupby('release_year').size()
total_movies_by_year = movies_df.groupby('release_year').size()
documentary_movie_count_by_year = documentary_movie_count_by_year[(documentary_movie_count_by_year.index >= 1980) & (documentary_movie_count_by_year.index <= 2015)]
total_movies_by_year = total_movies_by_year[(total_movies_by_year.index >= 1980) & (total_movies_by_year.index <= 2015)]
documentary_percentage_by_year = (documentary_movie_count_by_year / total_movies_by_year) * 100

fig, ax1 = plt.subplots(figsize=(10, 5))

ax1.plot(total_movies_by_year.index, np.log1p(total_movies_by_year.values), color='blue', label='Log of Total Movies')
ax1.plot(documentary_movie_count_by_year.index, np.log1p(documentary_movie_count_by_year.values), color='brown', label='Log of Documentary Movies')
ax1.set_xlabel('Year')
ax1.set_ylabel('Log of Total Number of Movies / Log of Documentary Movies', color='blue')
ax1.tick_params(axis='y', labelcolor='blue')

ax2 = ax1.twinx()
ax2.plot(documentary_percentage_by_year.index, documentary_percentage_by_year.values, color='green', label=f'Scaled % Documentary Movies', linestyle='--')
ax2.set_ylabel('Scaled Percentage of Documentary Movies', color='green')
ax2.tick_params(axis='y', labelcolor='green')

ax1.axvspan(2001, 2001, color='red', alpha=0.3, label="9/11 Period (2001)", linewidth=8)  # Thicker line for 9/11

plt.title('Total Movies, Documentary Movies (Log Scale), and Scaled Percentage of Documentary Movies Released by Year (1980-2015)')

ax1.grid(True)

ax1.legend(loc='upper left')

plt.tight_layout()
plt.show()



# Similar process but again obtaining movies only from the US
usa_movies_df = movies_df[movies_df['countries'].apply(lambda x: 'United States of America' in x if isinstance(x, list) else False)]
documentary_movies_usa_df = usa_movies_df[usa_movies_df['genres'].apply(lambda x: 'Documentary' in x if isinstance(x, list) else False)]
documentary_movie_count_by_year = documentary_movies_usa_df.groupby('release_year').size()
total_movies_by_year = usa_movies_df.groupby('release_year').size()
documentary_movie_count_by_year = documentary_movie_count_by_year[(documentary_movie_count_by_year.index >= 1980) & (documentary_movie_count_by_year.index <= 2015)]
total_movies_by_year = total_movies_by_year[(total_movies_by_year.index >= 1980) & (total_movies_by_year.index <= 2015)]
documentary_percentage_by_year = (documentary_movie_count_by_year / total_movies_by_year) * 100

fig, ax1 = plt.subplots(figsize=(10, 5))

ax1.plot(total_movies_by_year.index, np.log1p(total_movies_by_year.values), color='blue', label='Log of Total Movies')
ax1.plot(documentary_movie_count_by_year.index, np.log1p(documentary_movie_count_by_year.values), color='brown', label='Log of Documentary Movies')
ax1.set_xlabel('Year')
ax1.set_ylabel('Log of Total Number of Movies / Log of Documentary Movies', color='blue')
ax1.tick_params(axis='y', labelcolor='blue')

ax2 = ax1.twinx()
ax2.plot(documentary_percentage_by_year.index, documentary_percentage_by_year.values, color='green', label=f'Scaled % Documentary Movies', linestyle='--')
ax2.set_ylabel('Scaled Percentage of Documentary Movies', color='green')
ax2.tick_params(axis='y', labelcolor='green')

ax1.axvspan(2001, 2001, color='red', alpha=0.3, label="9/11 Period (2001)", linewidth=8)  # Thicker line for 9/11

plt.title('Total Movies, Documentary Movies (Log Scale), and Scaled Percentage of Documentary Movies Released by Year (1980-2015) from United States')

ax1.grid(True)

ax1.legend(loc='upper left')

plt.tight_layout()
plt.show()












# Obtaining correlation:

# First we get all the war movies and group them by year
war_movies_df = movies_df[movies_df['genres'].apply(lambda x: 'War' in x if isinstance(x, list) else False)]
war_movie_count_by_year = war_movies_df.groupby('release_year').size()
total_movies_by_year = movies_df.groupby('release_year').size()

# Then we obtained the percentage
war_percentage_by_year = (war_movie_count_by_year / total_movies_by_year) * 100

# Then we create an indicator to see if movie occurs during WW2 1 for movies that occured and if not the value is 0
start_year, end_year = 1939, 1945
movies_df['WWII Indicator'] = movies_df['release_year'].apply(lambda x: 1 if start_year <= x <= end_year else 0)
wwii_indicator_by_year = movies_df.groupby('release_year')['WWII Indicator'].max()

#Finaly we calculate the correlation between the percentage of war movies and the years of war
correlation = war_percentage_by_year.corr(wwii_indicator_by_year)

print("Correlation between WWII period and percentage of war movies produced:", correlation)





# First we get all the war movies from the US and group them by year
us_movies_df = movies_df[movies_df['countries'].apply(lambda x: 'United States of America' in x if isinstance(x, list) else False)]
war_movies_us_df = us_movies_df[us_movies_df['genres'].apply(lambda x: 'War' in x if isinstance(x, list) else False)]
war_movie_count_by_year_us = war_movies_us_df.groupby('release_year').size()
total_movies_by_year_us = us_movies_df.groupby('release_year').size()

# Then we obtained the percentage
war_percentage_by_year_us = (war_movie_count_by_year_us / total_movies_by_year_us) * 100

# Then we create an indicator to see if movie occurs during WW2 1 for movies that occured and if not the value is 0
start_year, end_year = 1939, 1945
us_movies_df.loc[:, 'WWII Indicator'] = us_movies_df['release_year'].apply(lambda x: 1 if start_year <= x <= end_year else 0)
wwii_indicator_by_year_us = us_movies_df.groupby('release_year')['WWII Indicator'].max()

#Finaly we calculate the correlation between the percentage of war movies and the years of war from the US
correlation_us = war_percentage_by_year_us.corr(wwii_indicator_by_year_us)

print("Correlation between WWII period and percentage of War movies produced in the United States:", correlation_us)



# First we get all the war movies from the UK and group them by year
uk_movies_df = movies_df[movies_df['countries'].apply(lambda x: 'United Kingdom' in x if isinstance(x, list) else False)]
war_movies_uk_df = uk_movies_df[uk_movies_df['genres'].apply(lambda x: 'War' in x if isinstance(x, list) else False)]
war_movie_count_by_year_uk = war_movies_uk_df.groupby('release_year').size()
total_movies_by_year_uk = uk_movies_df.groupby('release_year').size()

# Then we obtained the percentage
war_percentage_by_year_uk = (war_movie_count_by_year_uk / total_movies_by_year_uk) * 100

# Then we create an indicator to see if movie occurs during WW2 1 for movies that occured and if not the value is 0
start_year, end_year = 1939, 1945
uk_movies_df.loc[:, 'WWII Indicator'] = uk_movies_df['release_year'].apply(lambda x: 1 if start_year <= x <= end_year else 0)
wwii_indicator_by_year_us = uk_movies_df.groupby('release_year')['WWII Indicator'].max()

#Finaly we calculate the correlation between the percentage of war movies and the years of war from the UK
correlation_us = war_percentage_by_year_uk.corr(wwii_indicator_by_year_us)

print("Correlation between WWII period and percentage of War movies produced in the United Kigdom:", correlation_us)



# First we get all the mystery movies and group them by year
mystery_movies_df = movies_df[movies_df['genres'].apply(lambda x: 'Mystery' in x if isinstance(x, list) else False)]
mystery_movie_count_by_year = mystery_movies_df.groupby('release_year').size()
total_movies_by_year = movies_df.groupby('release_year').size()

# Then we obtained the percentage
mystery_percentage_by_year = (mystery_movie_count_by_year / total_movies_by_year) * 100

# Then we create an indicator to see if movie occurs during WW2 1 for movies that occured and if not the value is 0
start_year, end_year = 1932, 1948
movies_df['WWII Indicator'] = movies_df['release_year'].apply(lambda x: 1 if start_year <= x <= end_year else 0)
wwii_indicator_by_year = movies_df.groupby('release_year')['WWII Indicator'].max()

correlation = mystery_percentage_by_year.corr(wwii_indicator_by_year)

print("Correlation between WWII period and percentage of Mystery movies produced:", correlation)


# First we get all the Documentary movies and group them by year
documentary_movies_df = movies_df[movies_df['genres'].apply(lambda x: 'Documentary' in x if isinstance(x, list) else False)]
documentary_movies_1910_1960_df = documentary_movies_df[(documentary_movies_df['release_year'] >= 1910) & (documentary_movies_df['release_year'] <= 1960)]
documentary_movie_count_by_year = documentary_movies_1910_1960_df.groupby('release_year').size()
total_movies_by_year_1910_1960 = movies_df[(movies_df['release_year'] >= 1910) & (movies_df['release_year'] <= 1960)].groupby('release_year').size()

# Then we obtained the percentage
documentary_percentage_by_year = (documentary_movie_count_by_year / total_movies_by_year_1910_1960) * 100

# Then we create an indicator to see if movie occurs during WW2 1 for movies that occured and if not the value is 0
start_year, end_year = 1939, 1945
movies_df['WWII Indicator'] = movies_df['release_year'].apply(lambda x: 1 if start_year <= x <= end_year else 0)
wwii_indicator_by_year = movies_df[(movies_df['release_year'] >= 1910) & (movies_df['release_year'] <= 1960)].groupby('release_year')['WWII Indicator'].max()

correlation = documentary_percentage_by_year.corr(wwii_indicator_by_year)

print("Correlation between WWII period and percentage of Documentary movies produced (1910-1960):", correlation)


# First we get the science fiction movies, count them and obtain the percentage
sci_fi_movies_df = movies_df[movies_df['genres'].apply(lambda x: 'Science Fiction' in x if isinstance(x, list) else False)]
sci_fi_count_by_year = sci_fi_movies_df.groupby('release_year').size()
total_movies_by_year = movies_df.groupby('release_year').size()
sci_fi_percentage_by_year = ((sci_fi_count_by_year / total_movies_by_year) * 100).dropna()


#Then we adjust the period to focus our function
pre_space_race_years = range(1943, 1959)
sci_fi_percentage_pre_space_race = sci_fi_percentage_by_year[sci_fi_percentage_by_year.index.isin(pre_space_race_years)]

# Next we get our X and Y values
years = np.array(sci_fi_percentage_pre_space_race.index).reshape(-1, 1)
percentages = sci_fi_percentage_pre_space_race.values

# We apply regresion using function from sklearn
model = LinearRegression()
model.fit(years, percentages)
trendline = model.predict(years)

plt.figure(figsize=(10, 6))
plt.plot(sci_fi_percentage_by_year.index, sci_fi_percentage_by_year.values, color='gray', label='Percentage of Sci-Fi Movies (All Years)')
plt.plot(sci_fi_percentage_pre_space_race.index, sci_fi_percentage_pre_space_race.values, color='blue', label='Sci-Fi Movies % from 1943 to 1959')
plt.plot(sci_fi_percentage_pre_space_race.index, trendline, color='red', linestyle='--', label='Trendline (1943-1959)')

plt.axvspan(1957, 1975, color='lightblue', alpha=0.3, label="Space Race Period (1957-1975)")

plt.ylim(0, 20)

plt.xlabel('Year')
plt.ylabel('Percentage of Sci-Fi Movies')
plt.title('Trend in Sci-Fi Movies from 1943 to 1959')
plt.legend()
plt.grid(True)
plt.show()

#Finaly we display the slope value
print("Slope from 1943 to 1959:", model.coef_[0])




# First we get the science fiction movies, count them and obtain the percentage
sci_fi_movies_df = movies_df[movies_df['genres'].apply(lambda x: 'Science Fiction' in x if isinstance(x, list) else False)]
sci_fi_count_by_year = sci_fi_movies_df.groupby('release_year').size()
total_movies_by_year = movies_df.groupby('release_year').size()
sci_fi_percentage_by_year = (sci_fi_count_by_year / total_movies_by_year * 100).dropna()

#Then we adjust the period to focus our function
pre_space_race_years = range(1947, 1982)
sci_fi_percentage_pre_space_race = sci_fi_percentage_by_year[sci_fi_percentage_by_year.index.isin(pre_space_race_years)]

sci_fi_percentage_pre_space_race = sci_fi_percentage_pre_space_race.reindex(pre_space_race_years, fill_value=0)

# Later we adjust our data for our function
years = np.array(sci_fi_percentage_pre_space_race.index)
percentages = sci_fi_percentage_pre_space_race.values

# We apply a 3rd degree polynomial function
degree = 3
poly_model = Polynomial.fit(years, percentages, degree)

trendline = poly_model(years)

plt.figure(figsize=(10, 6))
plt.plot(sci_fi_percentage_by_year.index, sci_fi_percentage_by_year.values, color='gray', label='Percentage of Sci-Fi Movies (All Years)')
plt.plot(sci_fi_percentage_pre_space_race.index, sci_fi_percentage_pre_space_race.values, color='blue', label='Sci-Fi Movies % from 1947 to 1982')
plt.plot(sci_fi_percentage_pre_space_race.index, trendline, color='red', linestyle='--', label=f'Polynomial Trendline (Degree {degree})')

plt.axvspan(1957, 1975, color='lightblue', alpha=0.3, label="Space Race Period (1947-1982)")

plt.ylim(0, 20)

plt.xlabel('Year')
plt.ylabel('Percentage of Sci-Fi Movies')
plt.title('Trend in Sci-Fi Movies from 1937 to 1975')
plt.legend()
plt.grid(True)
plt.show()


# Finaly we display the function
coefficients = poly_model.convert().coef
poly_function_str = "f(x) = " + " + ".join(f"{coef:.3f}*x^{i}" if i > 0 else f"{coef:.3f}" for i, coef in enumerate(coefficients))
print("Polynomial Function:", poly_function_str)



# First we get the documentary movies, count them and obtain the percentage
documentary_movies_df = movies_df[movies_df['genres'].apply(lambda x: 'Documentary' in x if isinstance(x, list) else False)]
documentary_count_by_year = documentary_movies_df.groupby('release_year').size()
total_movies_by_year = movies_df.groupby('release_year').size()
documentary_percentage_by_year = ((documentary_count_by_year / total_movies_by_year) * 100).dropna()

#Then we adjust the period to focus our function
pre_post_911_years = range(1990, 2009)
documentary_percentage_pre_post_911 = documentary_percentage_by_year[documentary_percentage_by_year.index.isin(pre_post_911_years)]

# Next we get our X and Y values
years = np.array(documentary_percentage_pre_post_911.index).reshape(-1, 1)
percentages = documentary_percentage_pre_post_911.values

# We apply regresion using function from sklearn
model = LinearRegression()
model.fit(years, percentages)
trendline = model.predict(years)

plt.figure(figsize=(10, 6))
plt.plot(documentary_percentage_by_year.index, documentary_percentage_by_year.values, color='gray', label='Percentage of Documentary Movies (All Years)')
plt.plot(documentary_percentage_pre_post_911.index, documentary_percentage_pre_post_911.values, color='blue', label='Documentary Movies % from 1990 to 2009')
plt.plot(documentary_percentage_pre_post_911.index, trendline, color='red', linestyle='--', label='Trendline (1990-2009)')

plt.axvline(x=2001, color='lightblue', alpha=0.5, linestyle='-', linewidth=6, label="9/11 (2001)")

plt.ylim(0, 20)

plt.xlabel('Year')
plt.ylabel('Percentage of Documentary Movies')
plt.title('Trend in Documentary Movies from 1991 to 2006')
plt.legend()
plt.grid(True)
plt.show()

# Display the slope value
print("Slope from 1990 to 2009:", model.coef_[0])



# First we get the documentary movies, count them and obtain the percentage
documentary_movies_df = movies_df[movies_df['genres'].apply(lambda x: 'Documentary' in x if isinstance(x, list) else False)]
documentary_count_by_year = documentary_movies_df.groupby('release_year').size()
total_movies_by_year = movies_df.groupby('release_year').size()
documentary_percentage_by_year = (documentary_count_by_year / total_movies_by_year * 100).dropna()

#Then we adjust the period to focus our function
pre_post_911_years = range(1990, 2009)
documentary_percentage_pre_post_911 = documentary_percentage_by_year[documentary_percentage_by_year.index.isin(pre_post_911_years)]

documentary_percentage_pre_post_911 = documentary_percentage_pre_post_911.reindex(pre_post_911_years, fill_value=0)

# Later we adjust our data for our function
years = np.array(documentary_percentage_pre_post_911.index)
percentages = documentary_percentage_pre_post_911.values

# We apply a 2nd degree polynomial function (we used second because 3rd displayed the same plot)
degree = 2
poly_model = Polynomial.fit(years, percentages, degree)

trendline = poly_model(years)

plt.figure(figsize=(10, 6))
plt.plot(documentary_percentage_by_year.index, documentary_percentage_by_year.values, color='gray', label='Percentage of Documentary Movies (All Years)')
plt.plot(documentary_percentage_pre_post_911.index, documentary_percentage_pre_post_911.values, color='blue', label='Documentary Movies % from 1991 to 2006')
plt.plot(documentary_percentage_pre_post_911.index, trendline, color='red', linestyle='--', label=f'Polynomial Trendline (Degree {degree})')

plt.axvline(x=2001, color='lightblue', alpha=0.5, linestyle='-', linewidth=6, label="9/11 (2001)")

plt.ylim(0, 20)

plt.xlabel('Year')
plt.ylabel('Percentage of Documentary Movies')
plt.title('Trend in Documentary Movies from 1991 to 2006')
plt.legend()
plt.grid(True)
plt.show()

# Finaly we display the function
coefficients = poly_model.convert().coef
poly_function_str = "f(x) = " + " + ".join(f"{coef:.3f}*x^{i}" if i > 0 else f"{coef:.3f}" for i, coef in enumerate(coefficients))
print("Polynomial Function:", poly_function_str)







# Okay, so that's for some basic analysis we need for our assignment
# So, we would now like to start analyzing movies based on the season - summer, autumn, winter and spring
# Since our analysis is based on season for now, we are going to make a dataset that contains only movies which have month/year and day/month/year release_date formats
import re

full_date_pattern = r'\d{4}-\d{2}-\d{2}'
month_year_pattern = r'\d{4}-\d{2}'

def is_month_year_only(date_str):
    return bool(re.match(month_year_pattern, str(date_str)))
def is_full_date(date_str):
    return bool(re.match(full_date_pattern, str(date_str)))

df_seasons = df_filtered[df_filtered['release_date'].apply(is_month_year_only)]

print(f"Number of movies that have at least month and a year: {df_seasons.shape[0]}")
print(f"Number of movies that have any date (but not NaN): {df_filtered.shape[0]}")


# Cool! Now we have to divide them in seasons
# How to divide those that have only month and year?
print(f"Number of movies that have day, month and a year: {df_seasons[df_seasons['release_date'].apply(is_full_date)].shape[0]}")


# Since we can't really divide the movies that only have a month (we can drop them, that's an option), we are going to divide the seasons like groups of 3 month each
def find_season(date_str):
    if is_full_date(date_str) or is_month_year_only(date_str):
        month = date_str.month  #get just the month
        if month in [12, 1, 2]:
            return 'Winter'
        elif month in [3, 4, 5]:
            return 'Spring'
        elif month in [6, 7, 8]:
            return 'Summer'
        elif month in [9, 10, 11]:
            return 'Autumn'
    return None

df_seasons.loc[:, 'season'] = df_seasons['release_date'].apply(find_season)
df_summer = df_seasons[df_seasons['season']=='Summer']
df_autumn = df_seasons[df_seasons['season']=='Autumn']
df_winter = df_seasons[df_seasons['season']=='Winter']
df_spring = df_seasons[df_seasons['season']=='Spring']

# What is the number of movies in each dataset?
print(f"Movies released in summer: {df_summer.shape[0]}")
print(f"Movies released in autumn: {df_autumn.shape[0]}")
print(f"Movies released in winter: {df_winter.shape[0]}")
print(f"Movies released in spring: {df_spring.shape[0]}")


# Let's look at the ditribution of movies through seasons
plt.figure(figsize=(10, 6))
sns.countplot(x='season', data=df_seasons, order=['Summer', 'Autumn','Winter', 'Spring'])
plt.title('Number of released movies through seasons')
plt.xlabel('Season')
plt.ylabel('Number of Movies')
plt.xticks(rotation=45)
plt.show()


# Do movies in each season tend to have a different revenu? popularity? budget? Maybe even runtime? What about genre, does certain genre get more released in certain season?
# These are all questions we want to find answers for

# We will start with revenue
plt.figure(figsize=(10, 6))
sns.barplot(x="season", y="revenue", data=df_seasons)
plt.title('revenues of movies through seasons')
plt.xlabel('Season')
plt.ylabel('revenue')
plt.show()


# Does seasonal revenue change over time?
seasonal_revenue = df_seasons.groupby(['release_year', 'season'])['revenue'].mean().unstack()
seasonal_revenue.plot(figsize=(10, 6), marker='o')
plt.title('Average revenue per Season Over Time')
plt.xlabel('Year')
plt.ylabel('Average revenue')
plt.show()


# So, movies released in summer tend to have the biggest revenue... Why is that? Are they maybe blockbusters? Is it because people tend to have more free time during summer?
# Let's see how does budget look for different seasons
plt.figure(figsize=(10, 6))
sns.barplot(x="season", y="budget", data=df_seasons)
plt.title('budgets of movies through seasons')
plt.xlabel('Season')
plt.ylabel('budget')
plt.show()


# If we were thinking about blockbusters, it would make sense they would have the biggest budgets
# What about runtime? It may not seem important, but maybe indie, short movies are popular in some seasons?
plt.figure(figsize=(10, 6))
sns.barplot(x="season", y="runtime", data=df_seasons)
plt.title('Runtime of movies through seasons')
plt.xlabel('Season')
plt.ylabel('Runtime')
plt.show()


# So, quite constant - around 90 minutes seems like a sweet spot
# We shpuld check out popularity too
plt.figure(figsize=(10, 6))
sns.barplot(x="season", y="popularity", data=df_seasons)
plt.title('popularity score of movies through seasons')
plt.xlabel('Season')
plt.ylabel('popularity score')
plt.show()


# Interesting, maybe people do tend to like watching movies during summer...
# In the end, the most important part - we would love to know what are the most popular genres in each season
df_seasons_exploded = df_seasons.explode('genres')

plt.figure(figsize=(12, 8))
sns.countplot(x='season', hue='genres', data=df_seasons_exploded, order=['Summer', 'Autumn', 'Winter', 'Spring'])
plt.title('Genre Distribution Across Seasons')
plt.xlabel('Season')
plt.ylabel('Number of Movies')
plt.legend(title='Genre', bbox_to_anchor=(1.05, 1), loc='upper left')
plt.show()


# Another way to inspect
genre_season_pivot = df_seasons_exploded.pivot_table(index='genres', columns='season', aggfunc='size', fill_value=0)
plt.figure(figsize=(12, 8))
sns.heatmap(genre_season_pivot, annot=True, cmap='Blues', fmt="d")
plt.title('Frequency of genres by Season')
plt.xlabel('Season')
plt.ylabel('Genre')
plt.show()


#Let's view season by season, to see better what genres are when popular
genre_counts = df_seasons_exploded.groupby(['season', 'genres']).size().reset_index(name='count')
top_genres_per_season = genre_counts.sort_values(['season', 'count'], ascending=[True, False])
top_genres_per_season = top_genres_per_season.groupby('season').head(10)

plt.figure(figsize=(15, 6))
sns.barplot(data=top_genres_per_season, x='season', y='count', hue='genres', order=['Summer', 'Autumn', 'Winter', 'Spring'])
plt.title('Top 10 Genres by Season')
plt.xlabel('Season')
plt.ylabel('Number of Movies')
plt.legend(title='Genre', bbox_to_anchor=(1.05, 1), loc='upper left')
plt.show()





# Now that we looked at a lot of plots, let's actually ask some questions
# Let's first start with the most obvious one, revenue - does the season in which movie is released in impact the revenue?

df_seasons['season'] = df_seasons['season'].astype('category')
model_season_revenue = smf.ols(formula='revenue ~ C(season)', data=df_seasons)
results_season_revenue = model_season_revenue.fit()
print(results_season_revenue.summary())





model_season_popularity = smf.ols(formula='popularity ~ C(season)', data=df_seasons)
results_season_popularity = model_season_popularity.fit()
print(results_season_popularity.summary())





# After reviewing how the season affect revenue and popularity, we would like to delve deeper into genres
# Are certain genres more frequently released in certain seasons?
# Let's investigate this!

df_exploded = df_seasons.explode('genres')
df_genres = df_exploded['genres'].str.get_dummies() #converting to one hot encoded columns
df_genres_grouped = df_genres.groupby(df_exploded.index).sum()
df_seasons_added_genres = pd.concat([df_seasons, df_genres_grouped], axis=1)
season_genre_counts = df_seasons_added_genres.groupby('season')[df_genres_grouped.columns].sum()
df_seasons_added_genres.head()


chi2, p, dof, expected = chi2_contingency(season_genre_counts)
print(f'Chi-Square Statistic: {chi2}, p-value: {p}')





genre_season_performance = df_seasons.explode('genres').groupby(['genres', 'season']).agg({
    'revenue': 'mean',
    'popularity': 'mean'
}).reset_index()

# Display the first few rows to check the result
print(genre_season_performance.head())


# Do some genres perform better in specifical seasons? (in terms of revenue and popularity score)
revenue_pivot = genre_season_performance.pivot(index='genres', columns='season', values='revenue')
popularity_pivot = genre_season_performance.pivot(index='genres', columns='season', values='popularity')

# Plot heatmaps for revenue and popularity
plt.figure(figsize=(12, 6))
sns.heatmap(revenue_pivot, annot=True, cmap="YlGnBu", fmt='.2f', cbar=True)
plt.title('Average revenue by Genre and Season')
plt.xlabel('Season')
plt.ylabel('Genre')
plt.show()

plt.figure(figsize=(12, 6))
sns.heatmap(popularity_pivot, annot=True, cmap="YlGnBu", fmt='.2f', cbar=True)
plt.title('Average popularity by Genre and Season')
plt.xlabel('Season')
plt.ylabel('Genre')
plt.show()





spring_revenue = df_seasons[(df_seasons['genres'].apply(lambda x: 'Fantasy' in x or 'Science Fiction' in x)) & (df_seasons['season'] == 'Spring')]['revenue']
other_seasons_revenue = df_seasons[(df_seasons['genres'].apply(lambda x: 'Fantasy' in x or 'Science Fiction' in x)) & (df_seasons['season'] != 'Spring')]['revenue']

t_stat, p_value = ttest_ind(spring_revenue.dropna(), other_seasons_revenue.dropna())

print(f"T-statistic: {t_stat}, p-value: {p_value}")





# Exploding the genres column (so that each genre is a separate row)
df_exploded = df_seasons.explode('genres')

# Create a multiple linear regression model: revenue ~ season + genre + season:genre
model = ols('revenue ~ C(season) + C(genres) + C(season):C(genres)', data=df_exploded).fit()

# Print the summary to get the coefficients and p-values
print(model.summary())









df_month_year = df_filtered[df_filtered['release_date'].apply(is_month_year_only or is_full_date)]
df_full_date = df_filtered[df_filtered['release_date'].apply(is_full_date)]

# Extract month from release_date
df_month_year['month'] = df_month_year['release_date'].dt.month
df_month_year['year'] = df_month_year['release_date'].dt.year
df_full_date['month'] = df_full_date['release_date'].dt.month
df_full_date['year'] = df_full_date['release_date'].dt.year
df_full_date['day'] = df_full_date['release_date'].dt.day

# drop NaN values
df_month_year = df_month_year.dropna(subset=['month', 'year'])
df_full_date = df_full_date.dropna(subset=['month', 'year', 'day'])

# Subset movies after 1950
df_month_year = df_month_year[df_month_year['year'] >= 1950]
df_full_date = df_full_date[df_full_date['year'] >= 1950]

# Use English speaking movies only
df_month_year = df_month_year[df_month_year['languages'].apply(lambda x: 'English Language' in x if isinstance(x, list) else False)]
df_full_date = df_full_date[df_full_date['languages'].apply(lambda x: 'English Language' in x if isinstance(x, list) else False)]


# Let's see the distribution of movies through months
plt.figure(figsize=(10, 6))
sns.countplot(x='month', data=df_month_year)
plt.title('Number of released movies through months')
plt.xlabel('Month')
plt.ylabel('Number of Movies')
plt.xticks(rotation=45)
plt.show()

#ignore warnings
import warnings
warnings.filterwarnings('ignore')




# show distribution of movies through years
plt.figure(figsize=(10, 6))
sns.countplot(x='year', data=df_month_year)
plt.title('Number of released movies through years')
plt.xlabel('Year')
plt.ylabel('Number of Movies')
plt.xticks( ticks=plt.gca().get_xticks()[::5], rotation=45)
plt.show()






# filtering family movies
family_movies = df_full_date[df_full_date['genres'].apply(lambda x: any(genre in x for genre in ['Family']) if isinstance(x, list) else False)]

# Let's see the distribution of family movies through months
plt.figure(figsize=(10, 6))
sns.countplot(x='month', data=family_movies)
plt.title('Number of released family movies through months')
plt.xlabel('Month')
plt.ylabel('Number of Movies')
plt.xticks(rotation=45)
plt.show()







# Grouping by year and month
monthly_family_count = family_movies.groupby(['year', 'month']).size().reset_index(name='movie_count')
december_count = monthly_family_count[monthly_family_count['month'] == 12]['movie_count']

p_values = {}

# Performing t-tests comparing December with each other month
for month in range(1, 13):
    if month != 12:  
        
        other_month_count = monthly_family_count[monthly_family_count['month'] == month]['movie_count']
        t_stat, p_value = stats.ttest_ind(december_count, other_month_count, equal_var=False)
        p_values[month] = p_value


for month, p_value in p_values.items():
    print(f"Comparison of December with Month {month}: p-value = {p_value}")


significant_months = [month for month, p_value in p_values.items() if p_value < 0.05]
if significant_months:
    print(f"December has significantly more family movie releases than  the following months: {significant_months}")
else:
    print("December does not have significantly more family movie releases than any other month.")






family_trends = family_movies.groupby('month').agg({
    'revenue': 'mean',
    'genres': 'size'  
}).reset_index()

family_trends.dropna(inplace=True)

fig, ax1 = plt.subplots(figsize=(12, 6))

color1 = 'tab:blue'
ax1.set_title('Revenue vs Count of Family Movies', fontsize=16)
ax1.set_xlabel('Month', fontsize=14)
ax1.set_ylabel('Average Revenue', color=color1)
sns.lineplot(x='month', y='revenue', data=family_trends, ax=ax1, color=color1, label='Avg Revenue', marker='o')
ax1.tick_params(axis='y', labelcolor=color1)
ax1.set_xticks(range(1, 13))
ax1.set_xticklabels(['Jan', 'Feb', 'Mar', 'Apr', 'May', 'Jun', 'Jul', 'Aug', 'Sep', 'Oct', 'Nov', 'Dec'], rotation=45)

ax2 = ax1.twinx()
color2 = 'tab:green'
ax2.set_ylabel('Movie Count', color=color2)
sns.lineplot(x='month', y='genres', data=family_trends, ax=ax2, color=color2, label='Movie Count', marker='o')
ax2.tick_params(axis='y', labelcolor=color2)

ax1.grid(True)

ax1.legend(loc='upper left')
ax2.legend(loc='upper right')

plt.tight_layout()
plt.show()





slope, intercept, r_value, p_value, std_err = linregress(family_trends['month'], family_trends['revenue'])
print(f"Slope: {slope}")
print(f"Intercept: {intercept}")
print(f"R-squared: {r_value**2}")
print(f"P-value: {p_value}")




slope, intercept, r_value, p_value, std_err = linregress(family_trends['month'], family_trends['genres'])
print(f"Slope: {slope}")
print(f"Intercept: {intercept}")
print(f"R-squared: {r_value**2}")
print(f"P-value: {p_value}")







december_period = family_movies[family_movies['month'] == 12]

december_trends = december_period.groupby(['month', 'day']).agg({
    'revenue': 'mean',
    'genres': 'size'  # Count of movies per day
}).reset_index()


fig, ax1 = plt.subplots(figsize=(12, 6))

color1 = 'tab:blue'
ax1.set_title('Family Movies: December Analysis', fontsize=16)
ax1.set_xlabel('Day of December', fontsize=14)
ax1.set_ylabel('Average Revenue', color=color1)
sns.lineplot(
    x='day', y='revenue', data=december_trends, ax=ax1, color=color1, label='Avg Revenue (December)', marker='o'
)
ax1.tick_params(axis='y', labelcolor=color1)
ax1.set_xticks(range(1, 32))
ax1.set_xticklabels([f'Dec-{i}' for i in range(1, 32)], rotation=45)

ax2 = ax1.twinx()
color2 = 'tab:orange'
ax2.set_ylabel('Movie Count', color=color2)
sns.lineplot(
    x='day', y='genres', data=december_trends, ax=ax2, color=color2, linestyle='--', label='Movie Count (December)', marker='x'
)
ax2.tick_params(axis='y', labelcolor=color2)

ax1.grid(True)

ax1.legend(loc='upper left')
ax2.legend(loc='upper right')

plt.tight_layout()
plt.show()






# Find the days with the highest revenue and movie count
top_revenue_days = december_trends.sort_values(by='revenue', ascending=False).head(4)
top_movie_count_days = december_trends.sort_values(by='genres', ascending=False).head(4)

print("Top 4 Days with Highest Average Revenue in December:")
print(top_revenue_days)

print("\nTop 4 Days with Highest Movie Count in December:")
print(top_movie_count_days)




december_trends_clean = december_trends.replace([np.inf, -np.inf], np.nan).dropna(subset=['revenue', 'genres'])

# Pearson correlation between revenue and movie count and p value
correlation, p_value = stats.pearsonr(december_trends_clean['revenue'], december_trends_clean['genres'])
print(f"Pearson Correlation: {correlation}")
print(f"P-value: {p_value}")












horror_movies = df_full_date[df_full_date['genres'].apply(lambda x: any(genre in x for genre in ['Horror']) if isinstance(x, list) else False)]

plt.figure(figsize=(10, 6))
sns.countplot(x='month', data=horror_movies)
plt.title('Number of Released Horror Movies Around Halloween')
plt.xlabel('Month')
plt.ylabel('Number of Movies')
plt.xticks(rotation=45)
plt.show()




monthly_horror_count = horror_movies.groupby(['year', 'month']).size().reset_index(name='movie_count')
october_count = monthly_horror_count[monthly_horror_count['month'] == 10]['movie_count']

p_values = {}

# Performing t-tests comparing October with each other month
for month in range(1, 13):
    if month != 10:  
        other_month_count = monthly_horror_count[monthly_horror_count['month'] == month]['movie_count']
        t_stat, p_value = stats.ttest_ind(october_count, other_month_count, equal_var=False)
        p_values[month] = p_value

for month, p_value in p_values.items():
    print(f"Comparison of October with Month {month}: p-value = {p_value}")

# Interpret the results
significant_months = [month for month, p_value in p_values.items() if p_value < 0.05]
if significant_months:
    print(f"October has significantly more horror movie releases than the following months: {significant_months}")
else:
    print("October does not have significantly more horror movie releases than any other month.")






horror_trends = horror_movies.groupby('month').agg({
    'revenue': 'mean',
    'genres': 'size' 
}).reset_index()

horror_trends.dropna(inplace=True)

fig, ax1 = plt.subplots(figsize=(12, 6))

color1 = 'tab:blue'
ax1.set_title('Revenue vs Count of Horror Movies', fontsize=16)
ax1.set_xlabel('Month', fontsize=14)
ax1.set_ylabel('Average Revenue', color=color1)
sns.lineplot(x='month', y='revenue', data=horror_trends, ax=ax1, color=color1, label='Avg Revenue', marker='o')
ax1.tick_params(axis='y', labelcolor=color1)
ax1.set_xticks(range(1, 13))
ax1.set_xticklabels(['Jan', 'Feb', 'Mar', 'Apr', 'May', 'Jun', 'Jul', 'Aug', 'Sep', 'Oct', 'Nov', 'Dec'], rotation=45)


ax2 = ax1.twinx()
color2 = 'tab:green'
ax2.set_ylabel('Movie Count', color=color2)
sns.lineplot(x='month', y='genres', data=horror_trends, ax=ax2, color=color2, label='Movie Count', marker='o')
ax2.tick_params(axis='y', labelcolor=color2)

ax1.grid(True)

ax1.legend(loc='upper left')
ax2.legend(loc='upper right')

plt.tight_layout()
plt.show()



correlation = horror_trends['revenue'].corr(horror_trends['genres'])
print(f"Pearson Correlation between Revenue and Movie Count: {correlation}")
p_value = stats.pearsonr(horror_trends['revenue'], horror_trends['genres'])[1]
print(f"P-value: {p_value}")







horror_movies_october = df_full_date[
    df_full_date['genres'].apply(lambda x: 'Horror' in x if isinstance(x, list) else False) & 
    (df_full_date['month'] == 10)
]

horror_trends = horror_movies_october.groupby(['month', 'day']).agg({
    'revenue': 'mean',
    'genres': 'size'  
}).reset_index()

# Plotting 
fig, ax1 = plt.subplots(figsize=(12, 6))


color1 = 'tab:blue'
ax1.set_title('Revenue vs Count of Horror Movies in October', fontsize=16)
ax1.set_xlabel('Date (Month-Day)', fontsize=14)
ax1.set_ylabel('Average Revenue', color=color1)
sns.lineplot(x='day', y='revenue', data=horror_trends, ax=ax1, color=color1, label='Avg Revenue', marker='o')
ax1.tick_params(axis='y', labelcolor=color1)

horror_trends['date'] = horror_trends.apply(lambda row: f"{row['month']}-{row['day']}", axis=1)
ax1.set_xticks(horror_trends['day'])
ax1.set_xticklabels([f'Oct-{i}' for i in range(1, 32)], rotation=45)

ax2 = ax1.twinx()
color2 = 'tab:green'
ax2.set_ylabel('Movie Count', color=color2)
sns.lineplot(x='day', y='genres', data=horror_trends, ax=ax2, color=color2, label='Movie Count', marker='o')
ax2.tick_params(axis='y', labelcolor=color2)

ax1.grid(True)
ax1.legend(loc='upper left')
ax2.legend(loc='upper right')
plt.tight_layout()
plt.show()



# Identify peak days for revenue and movie count
top_revenue_days = horror_trends.sort_values(by='revenue', ascending=False).head(4)
top_movie_count_days = horror_trends.sort_values(by='genres', ascending=False).head(4)

print("Top 4 Days with Highest Average Revenue in October:")
top_revenue_days.head()






print("\nTop 4 Days with Highest Movie Count in October:")
top_movie_count_days.head()

top_revenue_days_data = horror_movies_october[horror_movies_october['day'].isin(top_revenue_days['day'])]


top_revenue_days_trends = top_revenue_days_data.groupby('day').agg({
    'revenue': 'mean'
}).reset_index()

top_revenue_days_count = top_revenue_days_data.groupby('day').size().reset_index(name='movie_count')

# Perform t-test for each top revenue day against all other days
p_values = {}
for day in top_revenue_days['day']:
    day_revenue = top_revenue_days_trends[top_revenue_days_trends['day'] == day]['revenue'].values[0]
    other_days_revenue = top_revenue_days_trends[top_revenue_days_trends['day'] != day]['revenue']
    t_stat, p_value = stats.ttest_ind([day_revenue] * len(other_days_revenue), other_days_revenue, equal_var=False)
    p_values[day] = p_value

for day, p_value in p_values.items():
    print(f"Comparison of Day {day} with Other Days: p-value = {p_value}")

significant_days = [day for day, p_value in p_values.items() if p_value < 0.05]
if significant_days:
    print(f"Revenue on the following days is significantly higher than on other days: {significant_days}")
else:
    print("Revenue on the top days is not significantly higher than on other days.")







# Filtering for Horror and Non-Horror movies released in October
october_horror_movies = horror_movies[(horror_movies['month'] == 10)]
non_horror_movies = df_full_date[(df_full_date['month'] == 10) & 
                                 (df_full_date['genres'].apply(lambda x: 'Horror' not in x if isinstance(x, list) else True))]

horror_trends = october_horror_movies.groupby(['year', 'day']).size().reset_index(name='horror_count')
non_horror_trends = non_horror_movies.groupby(['year', 'day']).size().reset_index(name='non_horror_count')

plt.figure(figsize=(14, 8))
sns.lineplot(x='day', y='horror_count', data=horror_trends, label='Horror Movies', color='tab:red', marker='o', linewidth=2)
sns.lineplot(x='day', y='non_horror_count', data=non_horror_trends, label='Non-Horror Movies', color='tab:blue', marker='o', linewidth=2)
plt.axvline(x=31, color='black', linestyle='--', label='Halloween (Oct 31)', lw=2)
plt.title('Horror vs Non-Horror Movie Releases in October', fontsize=16)
plt.xlabel('Day of October', fontsize=14)
plt.ylabel('Movie Count', fontsize=14)
plt.xticks(ticks=range(1, 32), labels=[str(i) for i in range(1, 32)], rotation=45)
plt.grid(True)
plt.legend()
plt.tight_layout()
plt.show()








slope, intercept, r_value, p_value, std_err = linregress(horror_trends['day'], horror_trends['horror_count'])
print(f"Slope: {slope}")
print(f"Intercept: {intercept}")
print(f"R-squared: {r_value**2}")
print(f"P-value: {p_value}")







valentine_movies = df_full_date[df_full_date['genres'].apply(lambda x: any(genre in x for genre in [ 'Romance']) if isinstance(x, list) else False)]

# Let's see the distribution of romantic movies through months
plt.figure(figsize=(10, 6))
sns.countplot(x='month', data=valentine_movies)
plt.title('Number of released Romance movies through months')
plt.xlabel('Month')
plt.ylabel('Number of Movies')
plt.xticks(rotation=45)
plt.show()









monthly_valentine_count = valentine_movies.groupby(['year', 'month']).size().reset_index(name='movie_count')
february_count = monthly_valentine_count[monthly_valentine_count['month'] == 2]['movie_count']

p_values = {}

for month in range(1, 13):
    if month != 2:  
        
        other_month_count = monthly_valentine_count[monthly_valentine_count['month'] == month]['movie_count']
        t_stat, p_value = stats.ttest_ind(february_count, other_month_count, equal_var=False)
        p_values[month] = p_value

for month, p_value in p_values.items():
    print(f"Comparison of February with Month {month}: p-value = {p_value}")

significant_months = [month for month, p_value in p_values.items() if p_value < 0.05]
if significant_months:
    print(f"February has significantly more Romance movie releases than the following months: {significant_months}")
else:
    print("February does not have significantly more Romance movie releases than any other month.")








valentines_movies = df_full_date[
    df_full_date['genres'].apply(lambda x: 'Romance' in x if isinstance(x, list) else False) & 
    (df_full_date['month'] == 2)
]

valentines_period = valentines_movies[
    ((valentines_movies['day'] >= 1) & (valentines_movies['day'] <= 30))  # Feb 10 to Feb 18
]

valentines_trends = valentines_period.groupby(['month', 'day']).agg({
    'revenue': 'mean',
    'genres': 'size'  
}).reset_index()

fig, ax1 = plt.subplots(figsize=(12, 6))

color1 = 'tab:blue'
ax1.set_title('Revenue vs Count of Romance Movies (Valentine\'s Week)', fontsize=16)
ax1.set_xlabel('Date (Month-Day)', fontsize=14)
ax1.set_ylabel('Average Revenue', color=color1)
sns.lineplot(x='day', y='revenue', data=valentines_trends, ax=ax1, color=color1, label='Avg Revenue', marker='o')
ax1.tick_params(axis='y', labelcolor=color1)

valentines_trends['date'] = valentines_trends.apply(lambda row: f"{row['month']}-{row['day']}", axis=1)
ax1.set_xticks(valentines_trends['day'])
ax1.set_xticklabels([f'Feb-{i}' for i in range(1, 29)], rotation=45)

ax2 = ax1.twinx()
color2 = 'tab:green'
ax2.set_ylabel('Movie Count', color=color2)
sns.lineplot(x='day', y='genres', data=valentines_trends, ax=ax2, color=color2, label='Movie Count', marker='o')
ax2.tick_params(axis='y', labelcolor=color2)

ax1.grid(True)

ax1.legend(loc='upper left')
ax2.legend(loc='upper right')

plt.tight_layout()
plt.show()



# Identifing peak days for revenue and movie count
top_revenue_days = valentines_trends.sort_values(by='revenue', ascending=False).head(4)
top_movie_count_days = valentines_trends.sort_values(by='genres', ascending=False).head(4)

# Display the top days
print("Top 4 Days with Highest Average Revenue in Valentine's Week:")
top_revenue_days.head()




print("\nTop 4 Days with Highest Movie Count in Valentine's Week:")
top_movie_count_days.head()




valentines_trends = valentines_period.groupby(['month', 'day']).agg({
    'revenue': 'mean',
    'genres': 'size'
}).reset_index()

heatmap_data = valentines_trends.pivot_table(index='day', columns='month', values='revenue', aggfunc='mean')

plt.figure(figsize=(12, 6))
sns.heatmap(heatmap_data, annot=True, cmap='Blues', fmt='.2f', linewidths=0.5, cbar_kws={'label': 'Average Revenue'})

plt.title('Heatmap of Average Revenue for Romance Movies (Valentine\'s Week)', fontsize=16)
plt.xlabel('Month', fontsize=14)
plt.ylabel('Day of February', fontsize=14)

plt.tight_layout()
plt.show()







top_revenue_days_data = valentines_period[valentines_period['day'].isin(top_revenue_days['day'])]

top_revenue_days_trends = top_revenue_days_data.groupby('day').agg({
    'revenue': 'mean'
}).reset_index()

top_revenue_days_count = top_revenue_days_data.groupby('day').size().reset_index(name='movie_count')

# t-test
p_values = {}
for day in top_revenue_days['day']:
    day_revenue = top_revenue_days_trends[top_revenue_days_trends['day'] == day]['revenue'].values[0]
    other_days_revenue = top_revenue_days_trends[top_revenue_days_trends['day'] != day]['revenue']
    t_stat, p_value = stats.ttest_ind([day_revenue] * len(other_days_revenue), other_days_revenue, equal_var=False)
    p_values[day] = p_value

for day, p_value in p_values.items():
    print(f"Comparison of Day {day} with Other Days: p-value = {p_value}")

significant_days = [day for day, p_value in p_values.items() if p_value < 0.05]
if significant_days:
    print(f"Revenue on the following days is significantly higher than on other days: {significant_days}")
else:
    print("Revenue on the top days is not significantly higher than on other days.")






