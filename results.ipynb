{
 "cells": [
  {
   "cell_type": "markdown",
   "metadata": {},
   "source": [
    "# **Cinema Through Time: How Seasons and History Shape the Movies We Watch**"
   ]
  },
  {
   "cell_type": "markdown",
   "metadata": {},
   "source": [
    "Our analysis explores the relationship between cinema, major historical events, and seasonal trends, examining how genres, themes, and revenues in movies evolve in response to societal shifts and audience preferences. Through this project, we aim to reveal how cinema evolves as a cultural medium, responding dynamically to both historical events and seasonal influences. By mapping patterns over time, we hope to contribute to a deeper understanding of how films resonate with audiences during different historical and cultural contexts, highlighting cinema’s role as both a reflection and an influencer of society."
   ]
  },
  {
   "cell_type": "markdown",
   "metadata": {},
   "source": [
    "### **Objectives**\n",
    "- **General Information About Movies**:\n",
    "   - Gather and analyze basic details about movies, including release dates, genres, revenue, and popularity. This foundational understanding will provide context for deeper analyses and trends.\n",
    "- **Historical Influence on Film Genres and Themes**: \n",
    "   - Analyze the impact of major historical events, such as world wars and economic crises, on film genres and themes.\n",
    "   - Examine how cinema reflects societal shifts and concerns, capturing the essence of different eras through the types of stories told.\n",
    "\n",
    "- **Seasonal Patterns in Movies**:\n",
    "   - Identify seasonal trends in genre popularity, aligning with cultural events and holidays.\n",
    "   - Explore how certain genres, like horror or family movies, may resonate more with audiences during specific times of the year.\n",
    "   - Assess the role of timing in maximizing box office performance, considering how release seasons affect audience engagement.\n",
    "\n",
    "- **Sentiment Analysis of Plot Summaries**:\n",
    "   - Capture the emotional tone of movies by analyzing the sentiment in plot summaries.\n",
    "   - Track variations in sentiment across seasons and historical periods, examining how cinema reflects the emotional climate of its time.\n"
   ]
  },
  {
   "cell_type": "markdown",
   "metadata": {},
   "source": [
    "### **Datasets**\n",
    "\n",
    "We are utilizing two primary datasets in this project: the *CMU* dataset and the *TMDB Movies Dataset* from Kaggle. The *CMU* dataset serves as our foundational source, providing detailed information on genres, release dates, and thematic elements, which are essential for analyzing the relationship between movies, historical events, and seasonal patterns. \n",
    "\n",
    "To complement the *CMU * dataset, we incorporated the *TMDB Movies Dataset*, a comprehensive movie database that includes additional features such as ratings, revenue, and popularity scores. Integrating this dataset adds depth to our analysis, especially by enriching financial insights and addressing missing values within the *CMU s* dataset. This combined approach allows us to leverage the strengths of both datasets, ensuring a more robust and accurate exploration of cinema’s evolution over time.\n"
   ]
  },
  {
   "cell_type": "code",
   "execution_count": null,
   "metadata": {},
   "outputs": [],
   "source": [
    "import pandas as pd\n",
    "import matplotlib.pyplot as plt\n",
    "import seaborn as sns\n",
    "import numpy as np\n",
    "from src.data.data_loader import *\n",
    "from src.utils.EDA import *"
   ]
  },
  {
   "cell_type": "code",
   "execution_count": 3,
   "metadata": {},
   "outputs": [
    {
     "name": "stdout",
     "output_type": "stream",
     "text": [
      "Movie Metadata Sample:\n",
      "<class 'pandas.core.frame.DataFrame'>\n",
      "RangeIndex: 81628 entries, 0 to 81627\n",
      "Data columns (total 11 columns):\n",
      " #   Column        Non-Null Count  Dtype  \n",
      "---  ------        --------------  -----  \n",
      " 0   wikipedia_id  81628 non-null  int64  \n",
      " 1   freebase_id   81628 non-null  object \n",
      " 2   name          81628 non-null  object \n",
      " 3   languages     72754 non-null  object \n",
      " 4   countries     75822 non-null  object \n",
      " 5   budget        8290 non-null   float64\n",
      " 6   popularity    49929 non-null  float64\n",
      " 7   revenue       11032 non-null  float64\n",
      " 8   runtime       67952 non-null  float64\n",
      " 9   genres        81628 non-null  object \n",
      " 10  release_date  74850 non-null  object \n",
      "dtypes: float64(4), int64(1), object(6)\n",
      "memory usage: 6.9+ MB\n"
     ]
    }
   ],
   "source": [
    "movies_df = data_loader_movies()\n",
    "print(\"Movie Metadata Sample:\")\n",
    "movies_df.info()"
   ]
  },
  {
   "cell_type": "code",
   "execution_count": 4,
   "metadata": {},
   "outputs": [
    {
     "name": "stdout",
     "output_type": "stream",
     "text": [
      "\n",
      "Summary Statistics for Numeric Columns:\n"
     ]
    },
    {
     "data": {
      "text/html": [
       "<div>\n",
       "<style scoped>\n",
       "    .dataframe tbody tr th:only-of-type {\n",
       "        vertical-align: middle;\n",
       "    }\n",
       "\n",
       "    .dataframe tbody tr th {\n",
       "        vertical-align: top;\n",
       "    }\n",
       "\n",
       "    .dataframe thead th {\n",
       "        text-align: right;\n",
       "    }\n",
       "</style>\n",
       "<table border=\"1\" class=\"dataframe\">\n",
       "  <thead>\n",
       "    <tr style=\"text-align: right;\">\n",
       "      <th></th>\n",
       "      <th>count</th>\n",
       "      <th>mean</th>\n",
       "      <th>std</th>\n",
       "      <th>min</th>\n",
       "      <th>25%</th>\n",
       "      <th>50%</th>\n",
       "      <th>75%</th>\n",
       "      <th>max</th>\n",
       "    </tr>\n",
       "  </thead>\n",
       "  <tbody>\n",
       "    <tr>\n",
       "      <th>wikipedia_id</th>\n",
       "      <td>81628.0</td>\n",
       "      <td>1.739927e+07</td>\n",
       "      <td>1.098763e+07</td>\n",
       "      <td>330.00</td>\n",
       "      <td>7317442.250</td>\n",
       "      <td>1.775422e+07</td>\n",
       "      <td>2.713261e+07</td>\n",
       "      <td>3.750192e+07</td>\n",
       "    </tr>\n",
       "    <tr>\n",
       "      <th>budget</th>\n",
       "      <td>8290.0</td>\n",
       "      <td>1.855514e+07</td>\n",
       "      <td>3.040164e+07</td>\n",
       "      <td>1.00</td>\n",
       "      <td>1250750.000</td>\n",
       "      <td>6.850000e+06</td>\n",
       "      <td>2.200000e+07</td>\n",
       "      <td>3.790000e+08</td>\n",
       "    </tr>\n",
       "    <tr>\n",
       "      <th>popularity</th>\n",
       "      <td>49929.0</td>\n",
       "      <td>4.915950e+00</td>\n",
       "      <td>7.775740e+00</td>\n",
       "      <td>0.00</td>\n",
       "      <td>1.067</td>\n",
       "      <td>2.171000e+00</td>\n",
       "      <td>5.572000e+00</td>\n",
       "      <td>3.007380e+02</td>\n",
       "    </tr>\n",
       "    <tr>\n",
       "      <th>revenue</th>\n",
       "      <td>11032.0</td>\n",
       "      <td>4.117780e+07</td>\n",
       "      <td>1.056461e+08</td>\n",
       "      <td>1.00</td>\n",
       "      <td>1500000.000</td>\n",
       "      <td>7.241692e+06</td>\n",
       "      <td>3.130311e+07</td>\n",
       "      <td>2.782275e+09</td>\n",
       "    </tr>\n",
       "    <tr>\n",
       "      <th>runtime</th>\n",
       "      <td>67952.0</td>\n",
       "      <td>1.095071e+02</td>\n",
       "      <td>4.140910e+03</td>\n",
       "      <td>0.03</td>\n",
       "      <td>80.000</td>\n",
       "      <td>9.300000e+01</td>\n",
       "      <td>1.080000e+02</td>\n",
       "      <td>1.079281e+06</td>\n",
       "    </tr>\n",
       "  </tbody>\n",
       "</table>\n",
       "</div>"
      ],
      "text/plain": [
       "                count          mean           std     min          25%  \\\n",
       "wikipedia_id  81628.0  1.739927e+07  1.098763e+07  330.00  7317442.250   \n",
       "budget         8290.0  1.855514e+07  3.040164e+07    1.00  1250750.000   \n",
       "popularity    49929.0  4.915950e+00  7.775740e+00    0.00        1.067   \n",
       "revenue       11032.0  4.117780e+07  1.056461e+08    1.00  1500000.000   \n",
       "runtime       67952.0  1.095071e+02  4.140910e+03    0.03       80.000   \n",
       "\n",
       "                       50%           75%           max  \n",
       "wikipedia_id  1.775422e+07  2.713261e+07  3.750192e+07  \n",
       "budget        6.850000e+06  2.200000e+07  3.790000e+08  \n",
       "popularity    2.171000e+00  5.572000e+00  3.007380e+02  \n",
       "revenue       7.241692e+06  3.130311e+07  2.782275e+09  \n",
       "runtime       9.300000e+01  1.080000e+02  1.079281e+06  "
      ]
     },
     "execution_count": 4,
     "metadata": {},
     "output_type": "execute_result"
    }
   ],
   "source": [
    "print(\"\\nSummary Statistics for Numeric Columns:\")\n",
    "movies_df.describe().T"
   ]
  },
  {
   "cell_type": "markdown",
   "metadata": {},
   "source": [
    "### Handling Missing Values\n",
    "The first step in our data cleaning process is to identify any missing values and decide on the appropriate strategy for handling them. Missing values can affect our analysis and models, so we will either fill them in with suitable values or remove the affected rows if necessary.\n"
   ]
  },
  {
   "cell_type": "code",
   "execution_count": 5,
   "metadata": {},
   "outputs": [
    {
     "name": "stdout",
     "output_type": "stream",
     "text": [
      "\n",
      "Missing Values in Each Column:\n",
      "wikipedia_id        0\n",
      "freebase_id         0\n",
      "name                0\n",
      "languages        8874\n",
      "countries        5806\n",
      "budget          73338\n",
      "popularity      31699\n",
      "revenue         70596\n",
      "runtime         13676\n",
      "genres              0\n",
      "release_date     6778\n",
      "dtype: int64\n"
     ]
    }
   ],
   "source": [
    "print(\"\\nMissing Values in Each Column:\")\n",
    "print(movies_df.isnull().sum())"
   ]
  },
  {
   "cell_type": "code",
   "execution_count": 6,
   "metadata": {},
   "outputs": [
    {
     "ename": "NameError",
     "evalue": "name 'plot_missing_values' is not defined",
     "output_type": "error",
     "traceback": [
      "\u001b[0;31m---------------------------------------------------------------------------\u001b[0m",
      "\u001b[0;31mNameError\u001b[0m                                 Traceback (most recent call last)",
      "Cell \u001b[0;32mIn[6], line 1\u001b[0m\n\u001b[0;32m----> 1\u001b[0m \u001b[43mplot_missing_values\u001b[49m(movies_df)\n",
      "\u001b[0;31mNameError\u001b[0m: name 'plot_missing_values' is not defined"
     ]
    }
   ],
   "source": [
    "plot_missing_values(movies_df)"
   ]
  },
  {
   "cell_type": "markdown",
   "metadata": {},
   "source": [
    "### **General Information About Movies**"
   ]
  },
  {
   "cell_type": "code",
   "execution_count": 3,
   "metadata": {},
   "outputs": [
    {
     "ename": "KeyError",
     "evalue": "'Movie countries'",
     "output_type": "error",
     "traceback": [
      "\u001b[1;31m---------------------------------------------------------------------------\u001b[0m",
      "\u001b[1;31mKeyError\u001b[0m                                  Traceback (most recent call last)",
      "File \u001b[1;32m~\\AppData\\Local\\Packages\\PythonSoftwareFoundation.Python.3.11_qbz5n2kfra8p0\\LocalCache\\local-packages\\Python311\\site-packages\\pandas\\core\\indexes\\base.py:3802\u001b[0m, in \u001b[0;36mIndex.get_loc\u001b[1;34m(self, key, method, tolerance)\u001b[0m\n\u001b[0;32m   3801\u001b[0m \u001b[38;5;28;01mtry\u001b[39;00m:\n\u001b[1;32m-> 3802\u001b[0m     \u001b[38;5;28;01mreturn\u001b[39;00m \u001b[38;5;28;43mself\u001b[39;49m\u001b[38;5;241;43m.\u001b[39;49m\u001b[43m_engine\u001b[49m\u001b[38;5;241;43m.\u001b[39;49m\u001b[43mget_loc\u001b[49m\u001b[43m(\u001b[49m\u001b[43mcasted_key\u001b[49m\u001b[43m)\u001b[49m\n\u001b[0;32m   3803\u001b[0m \u001b[38;5;28;01mexcept\u001b[39;00m \u001b[38;5;167;01mKeyError\u001b[39;00m \u001b[38;5;28;01mas\u001b[39;00m err:\n",
      "File \u001b[1;32m~\\AppData\\Local\\Packages\\PythonSoftwareFoundation.Python.3.11_qbz5n2kfra8p0\\LocalCache\\local-packages\\Python311\\site-packages\\pandas\\_libs\\index.pyx:138\u001b[0m, in \u001b[0;36mpandas._libs.index.IndexEngine.get_loc\u001b[1;34m()\u001b[0m\n",
      "File \u001b[1;32m~\\AppData\\Local\\Packages\\PythonSoftwareFoundation.Python.3.11_qbz5n2kfra8p0\\LocalCache\\local-packages\\Python311\\site-packages\\pandas\\_libs\\index.pyx:165\u001b[0m, in \u001b[0;36mpandas._libs.index.IndexEngine.get_loc\u001b[1;34m()\u001b[0m\n",
      "File \u001b[1;32mpandas\\_libs\\hashtable_class_helper.pxi:5745\u001b[0m, in \u001b[0;36mpandas._libs.hashtable.PyObjectHashTable.get_item\u001b[1;34m()\u001b[0m\n",
      "File \u001b[1;32mpandas\\_libs\\hashtable_class_helper.pxi:5753\u001b[0m, in \u001b[0;36mpandas._libs.hashtable.PyObjectHashTable.get_item\u001b[1;34m()\u001b[0m\n",
      "\u001b[1;31mKeyError\u001b[0m: 'Movie countries'",
      "\nThe above exception was the direct cause of the following exception:\n",
      "\u001b[1;31mKeyError\u001b[0m                                  Traceback (most recent call last)",
      "Cell \u001b[1;32mIn[3], line 1\u001b[0m\n\u001b[1;32m----> 1\u001b[0m \u001b[43mplot_top_10_countries\u001b[49m\u001b[43m(\u001b[49m\u001b[43mmovies_df\u001b[49m\u001b[43m)\u001b[49m\n",
      "File \u001b[1;32mc:\\Users\\Daniela Pamelin\\ada-2024-project-semex24\\general.py:20\u001b[0m, in \u001b[0;36mplot_top_10_countries\u001b[1;34m(movies_df)\u001b[0m\n\u001b[0;32m     13\u001b[0m \u001b[38;5;250m\u001b[39m\u001b[38;5;124;03m\"\"\"\u001b[39;00m\n\u001b[0;32m     14\u001b[0m \u001b[38;5;124;03mPlots the top 10 countries with the most movies from the movies dataframe.\u001b[39;00m\n\u001b[0;32m     15\u001b[0m \u001b[38;5;124;03m\u001b[39;00m\n\u001b[0;32m     16\u001b[0m \u001b[38;5;124;03mParameters:\u001b[39;00m\n\u001b[0;32m     17\u001b[0m \u001b[38;5;124;03m- movies_df (DataFrame): The DataFrame containing movie data with a column named 'Movie countries'.\u001b[39;00m\n\u001b[0;32m     18\u001b[0m \u001b[38;5;124;03m\"\"\"\u001b[39;00m\n\u001b[0;32m     19\u001b[0m \u001b[38;5;66;03m# Count the occurrence of each country in 'Movie countries' column\u001b[39;00m\n\u001b[1;32m---> 20\u001b[0m country_counts \u001b[38;5;241m=\u001b[39m \u001b[43mmovies_df\u001b[49m\u001b[43m[\u001b[49m\u001b[38;5;124;43m'\u001b[39;49m\u001b[38;5;124;43mMovie countries\u001b[39;49m\u001b[38;5;124;43m'\u001b[39;49m\u001b[43m]\u001b[49m\u001b[38;5;241m.\u001b[39mstr\u001b[38;5;241m.\u001b[39msplit(\u001b[38;5;124m'\u001b[39m\u001b[38;5;124m,\u001b[39m\u001b[38;5;124m'\u001b[39m)\u001b[38;5;241m.\u001b[39mexplode()\u001b[38;5;241m.\u001b[39mstr\u001b[38;5;241m.\u001b[39mstrip()\u001b[38;5;241m.\u001b[39mvalue_counts()\n\u001b[0;32m     22\u001b[0m \u001b[38;5;66;03m# Select the top 10 countries\u001b[39;00m\n\u001b[0;32m     23\u001b[0m top_10_countries \u001b[38;5;241m=\u001b[39m country_counts\u001b[38;5;241m.\u001b[39mhead(\u001b[38;5;241m10\u001b[39m)\n",
      "File \u001b[1;32m~\\AppData\\Local\\Packages\\PythonSoftwareFoundation.Python.3.11_qbz5n2kfra8p0\\LocalCache\\local-packages\\Python311\\site-packages\\pandas\\core\\frame.py:3807\u001b[0m, in \u001b[0;36mDataFrame.__getitem__\u001b[1;34m(self, key)\u001b[0m\n\u001b[0;32m   3805\u001b[0m \u001b[38;5;28;01mif\u001b[39;00m \u001b[38;5;28mself\u001b[39m\u001b[38;5;241m.\u001b[39mcolumns\u001b[38;5;241m.\u001b[39mnlevels \u001b[38;5;241m>\u001b[39m \u001b[38;5;241m1\u001b[39m:\n\u001b[0;32m   3806\u001b[0m     \u001b[38;5;28;01mreturn\u001b[39;00m \u001b[38;5;28mself\u001b[39m\u001b[38;5;241m.\u001b[39m_getitem_multilevel(key)\n\u001b[1;32m-> 3807\u001b[0m indexer \u001b[38;5;241m=\u001b[39m \u001b[38;5;28;43mself\u001b[39;49m\u001b[38;5;241;43m.\u001b[39;49m\u001b[43mcolumns\u001b[49m\u001b[38;5;241;43m.\u001b[39;49m\u001b[43mget_loc\u001b[49m\u001b[43m(\u001b[49m\u001b[43mkey\u001b[49m\u001b[43m)\u001b[49m\n\u001b[0;32m   3808\u001b[0m \u001b[38;5;28;01mif\u001b[39;00m is_integer(indexer):\n\u001b[0;32m   3809\u001b[0m     indexer \u001b[38;5;241m=\u001b[39m [indexer]\n",
      "File \u001b[1;32m~\\AppData\\Local\\Packages\\PythonSoftwareFoundation.Python.3.11_qbz5n2kfra8p0\\LocalCache\\local-packages\\Python311\\site-packages\\pandas\\core\\indexes\\base.py:3804\u001b[0m, in \u001b[0;36mIndex.get_loc\u001b[1;34m(self, key, method, tolerance)\u001b[0m\n\u001b[0;32m   3802\u001b[0m     \u001b[38;5;28;01mreturn\u001b[39;00m \u001b[38;5;28mself\u001b[39m\u001b[38;5;241m.\u001b[39m_engine\u001b[38;5;241m.\u001b[39mget_loc(casted_key)\n\u001b[0;32m   3803\u001b[0m \u001b[38;5;28;01mexcept\u001b[39;00m \u001b[38;5;167;01mKeyError\u001b[39;00m \u001b[38;5;28;01mas\u001b[39;00m err:\n\u001b[1;32m-> 3804\u001b[0m     \u001b[38;5;28;01mraise\u001b[39;00m \u001b[38;5;167;01mKeyError\u001b[39;00m(key) \u001b[38;5;28;01mfrom\u001b[39;00m \u001b[38;5;21;01merr\u001b[39;00m\n\u001b[0;32m   3805\u001b[0m \u001b[38;5;28;01mexcept\u001b[39;00m \u001b[38;5;167;01mTypeError\u001b[39;00m:\n\u001b[0;32m   3806\u001b[0m     \u001b[38;5;66;03m# If we have a listlike key, _check_indexing_error will raise\u001b[39;00m\n\u001b[0;32m   3807\u001b[0m     \u001b[38;5;66;03m#  InvalidIndexError. Otherwise we fall through and re-raise\u001b[39;00m\n\u001b[0;32m   3808\u001b[0m     \u001b[38;5;66;03m#  the TypeError.\u001b[39;00m\n\u001b[0;32m   3809\u001b[0m     \u001b[38;5;28mself\u001b[39m\u001b[38;5;241m.\u001b[39m_check_indexing_error(key)\n",
      "\u001b[1;31mKeyError\u001b[0m: 'Movie countries'"
     ]
    }
   ],
   "source": [
    "plot_top_10_countries(movies_df)"
   ]
  },
  {
   "cell_type": "markdown",
   "metadata": {},
   "source": [
    "### **Historical Influence on Film Genres and Themes**"
   ]
  },
  {
   "cell_type": "markdown",
   "metadata": {},
   "source": [
    "### **Seasonal Patterns in Movies**"
   ]
  },
  {
   "cell_type": "markdown",
   "metadata": {},
   "source": [
    "### **Sentiment Analysis of Plot Summaries**"
   ]
  },
  {
   "cell_type": "code",
   "execution_count": null,
   "metadata": {},
   "outputs": [],
   "source": []
  }
 ],
 "metadata": {
  "kernelspec": {
   "display_name": "ada",
   "language": "python",
   "name": "python3"
  },
  "language_info": {
   "codemirror_mode": {
    "name": "ipython",
    "version": 3
   },
   "file_extension": ".py",
   "mimetype": "text/x-python",
   "name": "python",
   "nbconvert_exporter": "python",
   "pygments_lexer": "ipython3",
   "version": "3.11.9"
  }
 },
 "nbformat": 4,
 "nbformat_minor": 2
}
